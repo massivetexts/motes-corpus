{
 "cells": [
  {
   "cell_type": "code",
   "execution_count": 2,
   "metadata": {},
   "outputs": [
    {
     "name": "stdout",
     "output_type": "stream",
     "text": [
      "The autoreload extension is already loaded. To reload it, use:\n",
      "  %reload_ext autoreload\n"
     ]
    }
   ],
   "source": [
    "%load_ext autoreload\n",
    "%autoreload 2"
   ]
  },
  {
   "cell_type": "code",
   "execution_count": 4,
   "metadata": {},
   "outputs": [],
   "source": [
    "import glob\n",
    "import motes_corpus.youtube as yt\n",
    "import json\n",
    "import pandas as pd\n",
    "import spacy\n",
    "import numpy as np"
   ]
  },
  {
   "cell_type": "code",
   "execution_count": 5,
   "metadata": {},
   "outputs": [
    {
     "data": {
      "text/plain": [
       "\"The special weapons I've developed will assure our victory. I wish I had a device that could locate your lost brother Vrak. Leave it to me. I've been working on something big. (button beeping) It's wa...\""
      ]
     },
     "execution_count": 5,
     "metadata": {},
     "output_type": "execute_result"
    }
   ],
   "source": [
    "caption_paths = glob.glob('/data/motes/yt_captions/**/*')\n",
    "# Example\n",
    "caption = yt.YTCaption(caption_paths[2])\n",
    "caption.text[:200] + '...'"
   ]
  },
  {
   "cell_type": "code",
   "execution_count": 8,
   "metadata": {},
   "outputs": [],
   "source": [
    "all_text = \"\"\n",
    "for path in caption_paths:\n",
    "    try:\n",
    "        caption = yt.YTCaption(path)\n",
    "        all_text += '\\n' + caption.text\n",
    "    except KeyboardInterrupt:\n",
    "        raise\n",
    "    except json.JSONDecodeError:\n",
    "        print('Invalid JSON for {}. Check or delete.'.format(path))\n",
    "    except:\n",
    "        raise\n",
    "        print('Error with {}'.format(path))"
   ]
  },
  {
   "cell_type": "markdown",
   "metadata": {},
   "source": [
    "### Number of words in the dataset (so far)"
   ]
  },
  {
   "cell_type": "code",
   "execution_count": 9,
   "metadata": {},
   "outputs": [
    {
     "data": {
      "text/plain": [
       "4450218"
      ]
     },
     "execution_count": 9,
     "metadata": {},
     "output_type": "execute_result"
    }
   ],
   "source": [
    "len(all_text.split())"
   ]
  },
  {
   "cell_type": "markdown",
   "metadata": {},
   "source": [
    "### Top Words"
   ]
  },
  {
   "cell_type": "code",
   "execution_count": 10,
   "metadata": {},
   "outputs": [],
   "source": [
    "nlp = spacy.load('en_core_web_sm')"
   ]
  },
  {
   "cell_type": "code",
   "execution_count": 18,
   "metadata": {},
   "outputs": [
    {
     "name": "stdout",
     "output_type": "stream",
     "text": [
      "go like oh let know get look come right okay time music think want yes to yeah need good find thing little way hey day help play goo guy say school work kid dude ready power love big great laugh start zz try dad thank student new mean wait today tell god mom well use people ha friend year lot whoa sure man baby feel kind water talk eat watch ranger learn rangers leave fun uh stop place maybe make turn cool monster blue game run hello color hear super happen wow long home world red take different hand video away sound live hi ask house check nice word alright see open call job bite question idea ah actually happy high child grunt ninja family cat huh life build bring line fast numb light end fire um sorry head inside remember green boy ronald district door thanks favorite fly close hold room book stay write bye give guess story food win read ok nick problem miss car hard meet pretty star awesome believe tree bad halloween will hope change teacher eye old small kids jump earth night week break scream point animal girl rock save pink fall add special face wanna share welcome everybody able jesus gaga gasp parent stick piece yell real draw dog ball hmm understand catch team plan paper letter walk set card important grow dance subscribe unit class easy click yellow cut show applause forget stuff late sit minute round ooh stand follow space train hide wrong begin channel white morning heart finish bear 2 lose explosion step chat o move worry song course shape christmas pick plant bird black hair ice nature harness fight shake foot brother have cheer toy count box challenge hot picture maggie hit free amaze perfect trick math sleep number person create party excite sing program teach listen group care air wonder grade scare sun body outside clean tv fish spin strong scary la dino squad safe middle blast chris far wing dark beautiful soon giggle pull treat join finger truck comment probably choose paint roll answer ride drive case egg half upbeat board fine shoot orange wear speak beep bark finally mind yay surprise brody community got xavier money send enjoy month seven sky bell continue ring figure birthday e glue zord attack system support bed ahead button land wish practice crazy magic hoo chase area true rest roar father matt sir cause leg sister mother level push phone touch brad jen yadina secret lord flower pizza swim present blow dramatic pay planet church blaze bubble quick cake sweet mommy throw one king city cold beat grab moment bus you slide force deep master mr paw rescue engine fill die adventure young classroom base buy drink steel mode pup spot activate candy model order son purple movie cream daddy boat example early snow exactly arm race steve tooth provide sign energy hour voice shark state pop sea x somebody circle park solve drop grind ocean destroy cry strike lead definitely\n"
     ]
    }
   ],
   "source": [
    "all_words = []\n",
    "for x in all_text.split('\\n'):\n",
    "    doc = nlp(x, disable=['parser', 'tagger','ner','textcat'])\n",
    "    all_words += [word.lemma_.lower() for word in doc if (not word.is_stop) and word.is_alpha]\n",
    "top_words = pd.Series(all_words).value_counts()\n",
    "print(\" \".join(top_words.head(500).index.tolist()))"
   ]
  },
  {
   "cell_type": "code",
   "execution_count": 19,
   "metadata": {},
   "outputs": [
    {
     "data": {
      "text/plain": [
       "go            24106\n",
       "like          23063\n",
       "oh            21503\n",
       "let           18782\n",
       "know          15189\n",
       "              ...  \n",
       "destroy         697\n",
       "cry             697\n",
       "strike          697\n",
       "lead            695\n",
       "definitely      695\n",
       "Length: 500, dtype: int64"
      ]
     },
     "execution_count": 19,
     "metadata": {},
     "output_type": "execute_result"
    }
   ],
   "source": [
    "top_words.head(500)"
   ]
  },
  {
   "cell_type": "markdown",
   "metadata": {},
   "source": [
    "### By TFIDF"
   ]
  },
  {
   "cell_type": "code",
   "execution_count": 22,
   "metadata": {},
   "outputs": [
    {
     "data": {
      "text/html": [
       "<div>\n",
       "<style scoped>\n",
       "    .dataframe tbody tr th:only-of-type {\n",
       "        vertical-align: middle;\n",
       "    }\n",
       "\n",
       "    .dataframe tbody tr th {\n",
       "        vertical-align: top;\n",
       "    }\n",
       "\n",
       "    .dataframe thead th {\n",
       "        text-align: right;\n",
       "    }\n",
       "</style>\n",
       "<table border=\"1\" class=\"dataframe\">\n",
       "  <thead>\n",
       "    <tr style=\"text-align: right;\">\n",
       "      <th></th>\n",
       "      <th>token</th>\n",
       "      <th>count</th>\n",
       "      <th>idf</th>\n",
       "      <th>tf-idf</th>\n",
       "      <th>wf-idf</th>\n",
       "    </tr>\n",
       "  </thead>\n",
       "  <tbody>\n",
       "    <tr>\n",
       "      <th>9</th>\n",
       "      <td>okay</td>\n",
       "      <td>12776</td>\n",
       "      <td>4.339616</td>\n",
       "      <td>55442.933340</td>\n",
       "      <td>45.372089</td>\n",
       "    </tr>\n",
       "    <tr>\n",
       "      <th>2</th>\n",
       "      <td>oh</td>\n",
       "      <td>21503</td>\n",
       "      <td>1.904725</td>\n",
       "      <td>40957.309426</td>\n",
       "      <td>20.906166</td>\n",
       "    </tr>\n",
       "    <tr>\n",
       "      <th>16</th>\n",
       "      <td>yeah</td>\n",
       "      <td>8929</td>\n",
       "      <td>4.228069</td>\n",
       "      <td>37752.430407</td>\n",
       "      <td>42.691068</td>\n",
       "    </tr>\n",
       "    <tr>\n",
       "      <th>33</th>\n",
       "      <td>dude</td>\n",
       "      <td>5833</td>\n",
       "      <td>3.753486</td>\n",
       "      <td>21894.084721</td>\n",
       "      <td>36.301041</td>\n",
       "    </tr>\n",
       "    <tr>\n",
       "      <th>27</th>\n",
       "      <td>goo</td>\n",
       "      <td>6293</td>\n",
       "      <td>3.380653</td>\n",
       "      <td>21274.451133</td>\n",
       "      <td>32.951881</td>\n",
       "    </tr>\n",
       "    <tr>\n",
       "      <th>0</th>\n",
       "      <td>go</td>\n",
       "      <td>24106</td>\n",
       "      <td>0.879535</td>\n",
       "      <td>21202.065593</td>\n",
       "      <td>9.754231</td>\n",
       "    </tr>\n",
       "    <tr>\n",
       "      <th>23</th>\n",
       "      <td>hey</td>\n",
       "      <td>6920</td>\n",
       "      <td>2.950612</td>\n",
       "      <td>20418.232266</td>\n",
       "      <td>29.040424</td>\n",
       "    </tr>\n",
       "    <tr>\n",
       "      <th>41</th>\n",
       "      <td>zz</td>\n",
       "      <td>5071</td>\n",
       "      <td>4.003710</td>\n",
       "      <td>20302.813575</td>\n",
       "      <td>38.160535</td>\n",
       "    </tr>\n",
       "    <tr>\n",
       "      <th>28</th>\n",
       "      <td>guy</td>\n",
       "      <td>6227</td>\n",
       "      <td>3.250274</td>\n",
       "      <td>20239.456989</td>\n",
       "      <td>31.646781</td>\n",
       "    </tr>\n",
       "    <tr>\n",
       "      <th>3</th>\n",
       "      <td>let</td>\n",
       "      <td>18782</td>\n",
       "      <td>1.020807</td>\n",
       "      <td>19172.802543</td>\n",
       "      <td>11.066219</td>\n",
       "    </tr>\n",
       "    <tr>\n",
       "      <th>11</th>\n",
       "      <td>music</td>\n",
       "      <td>12262</td>\n",
       "      <td>1.563182</td>\n",
       "      <td>19167.742348</td>\n",
       "      <td>16.279388</td>\n",
       "    </tr>\n",
       "    <tr>\n",
       "      <th>14</th>\n",
       "      <td>yes</td>\n",
       "      <td>10645</td>\n",
       "      <td>1.780924</td>\n",
       "      <td>18957.932789</td>\n",
       "      <td>18.295154</td>\n",
       "    </tr>\n",
       "    <tr>\n",
       "      <th>60</th>\n",
       "      <td>whoa</td>\n",
       "      <td>3937</td>\n",
       "      <td>4.200835</td>\n",
       "      <td>16538.688094</td>\n",
       "      <td>38.976081</td>\n",
       "    </tr>\n",
       "    <tr>\n",
       "      <th>32</th>\n",
       "      <td>kid</td>\n",
       "      <td>5925</td>\n",
       "      <td>2.753401</td>\n",
       "      <td>16313.901833</td>\n",
       "      <td>26.672021</td>\n",
       "    </tr>\n",
       "    <tr>\n",
       "      <th>5</th>\n",
       "      <td>get</td>\n",
       "      <td>14648</td>\n",
       "      <td>1.091689</td>\n",
       "      <td>15991.061184</td>\n",
       "      <td>11.563235</td>\n",
       "    </tr>\n",
       "    <tr>\n",
       "      <th>1</th>\n",
       "      <td>like</td>\n",
       "      <td>23063</td>\n",
       "      <td>0.680201</td>\n",
       "      <td>15687.466701</td>\n",
       "      <td>7.513486</td>\n",
       "    </tr>\n",
       "    <tr>\n",
       "      <th>43</th>\n",
       "      <td>dad</td>\n",
       "      <td>4907</td>\n",
       "      <td>3.067209</td>\n",
       "      <td>15050.796156</td>\n",
       "      <td>29.133636</td>\n",
       "    </tr>\n",
       "    <tr>\n",
       "      <th>6</th>\n",
       "      <td>look</td>\n",
       "      <td>14466</td>\n",
       "      <td>1.037120</td>\n",
       "      <td>15002.976772</td>\n",
       "      <td>10.972269</td>\n",
       "    </tr>\n",
       "    <tr>\n",
       "      <th>8</th>\n",
       "      <td>right</td>\n",
       "      <td>14070</td>\n",
       "      <td>1.030550</td>\n",
       "      <td>14499.844695</td>\n",
       "      <td>10.874162</td>\n",
       "    </tr>\n",
       "    <tr>\n",
       "      <th>13</th>\n",
       "      <td>want</td>\n",
       "      <td>11531</td>\n",
       "      <td>1.219220</td>\n",
       "      <td>14058.828258</td>\n",
       "      <td>12.622336</td>\n",
       "    </tr>\n",
       "  </tbody>\n",
       "</table>\n",
       "</div>"
      ],
      "text/plain": [
       "    token  count       idf        tf-idf     wf-idf\n",
       "9    okay  12776  4.339616  55442.933340  45.372089\n",
       "2      oh  21503  1.904725  40957.309426  20.906166\n",
       "16   yeah   8929  4.228069  37752.430407  42.691068\n",
       "33   dude   5833  3.753486  21894.084721  36.301041\n",
       "27    goo   6293  3.380653  21274.451133  32.951881\n",
       "0      go  24106  0.879535  21202.065593   9.754231\n",
       "23    hey   6920  2.950612  20418.232266  29.040424\n",
       "41     zz   5071  4.003710  20302.813575  38.160535\n",
       "28    guy   6227  3.250274  20239.456989  31.646781\n",
       "3     let  18782  1.020807  19172.802543  11.066219\n",
       "11  music  12262  1.563182  19167.742348  16.279388\n",
       "14    yes  10645  1.780924  18957.932789  18.295154\n",
       "60   whoa   3937  4.200835  16538.688094  38.976081\n",
       "32    kid   5925  2.753401  16313.901833  26.672021\n",
       "5     get  14648  1.091689  15991.061184  11.563235\n",
       "1    like  23063  0.680201  15687.466701   7.513486\n",
       "43    dad   4907  3.067209  15050.796156  29.133636\n",
       "6    look  14466  1.037120  15002.976772  10.972269\n",
       "8   right  14070  1.030550  14499.844695  10.874162\n",
       "13   want  11531  1.219220  14058.828258  12.622336"
      ]
     },
     "execution_count": 22,
     "metadata": {},
     "output_type": "execute_result"
    }
   ],
   "source": [
    "idf = pd.read_parquet('/projects/creativity-aut/data/idf-vals.parquet').set_index('token').to_dict()['IPF']\n",
    "top_wordsdf = top_words.reset_index().rename(columns={'index':'token', 0:'count'})\n",
    "top_wordsdf['idf'] = top_wordsdf.token.apply(lambda x: idf[x] if x in idf else None)\n",
    "top_wordsdf['tf-idf'] = top_wordsdf['count'] * top_wordsdf['idf']\n",
    "top_wordsdf['wf-idf'] = (top_wordsdf['count'].apply(np.log) + 1) * top_wordsdf['idf']\n",
    "top_wordsdf.sort_values('tf-idf', ascending=False).iloc[:20]"
   ]
  },
  {
   "cell_type": "code",
   "execution_count": 24,
   "metadata": {},
   "outputs": [
    {
     "name": "stdout",
     "output_type": "stream",
     "text": [
      "ronald\thalloween\tzord\tbrody\tjenna\tninja\tokay\tchloe\tsuperhero\tbackpack\tmorphin\tyummy\tfreddy\tzombie\tyeah\tupbeat\tbutterbean\tnoah\twoah\tguppy\tchristmas\tactivate\tkarina\tgaga\tahhh\thmm\talright\twebsite\toink\tpeppa\tpbs\tricky\tnickelodeon\twhoosh\tmaggie\tchris\tjesus\twhoa\tgoogle\tdownload\tkrishna\tsteve\tdino\tooh\thayley\tcorina\tpreston\tstarburst\tdaniel\tzz\tpihu\tberby\tzap\tgosei\tfrankie\tzordon\tuppercase\telinor\tspaceship\tdinosaur\tmommy\tyay\tgotcha\ttyler\tcupcake\tzeo\tsmoothie\tdude\tbeep\tcindy\tpizza\taviva\tcanticos\tcalvin\twednesday\trobot\tninjas\tolympia\tchacha\tjohny\themet\tmorph\tmickey\tzoom\tyep\tpandemic\terika\twanna\tmcdonald\tahh\tscary\telmo\tsabertooth\tvroom\toooh\trecycle\tsydney\tmolly\tgoldie\tteddy\telliot\tsarah\tlizzy\tfirefighter\tchuchu\tgoogoo\tryou\telijah\trobotic\tjurassic\tcalifornia\tjake\trangers\tjodi\tshh\tkatie\tamerica\toswald\theadphone\tabby\thahaha\tandy\tyumi\thello\tsuspenseful\tdevon\taww\tmeatball\titsy\tsaturday\tsuperpower\turanus\tmeow\tstinky\tgoogly\ttimmy\toops\twow\tsunspot\tribbit\ttitano\tzuma\tastronaut\tuh\tdanny\tawesome\tkaden\todius\tscissor\tohhh\tamelia\tpatrick\tgoo\tbitsy\thmmm\tinternet\tkoki\tblaster\tohh\tryder\tbunny\tneptune\tbrax\tlaser\talaska\tonline\tmindy\tipad\tfeedback\tpupy\targh\ternie\tunstoppable\tranger\tboop\tinator\tcheetah\thuh\tmacdonald\tgadget\tyikes\tsaturn\taustralia\toctober\tcooky\toona\twhoo\tsidekick\tlowercase\tgrader\taah\twashington\tmega\tfridge\tjonah\tsticker\tptera\tarthur\tguy\trobo\n"
     ]
    }
   ],
   "source": [
    "print(\"\\t\".join(top_wordsdf.sort_values('wf-idf', ascending=False).iloc[:200].token.tolist()))"
   ]
  },
  {
   "cell_type": "code",
   "execution_count": null,
   "metadata": {},
   "outputs": [],
   "source": []
  }
 ],
 "metadata": {
  "kernelspec": {
   "display_name": "Python 3",
   "language": "python",
   "name": "python3"
  },
  "language_info": {
   "codemirror_mode": {
    "name": "ipython",
    "version": 3
   },
   "file_extension": ".py",
   "mimetype": "text/x-python",
   "name": "python",
   "nbconvert_exporter": "python",
   "pygments_lexer": "ipython3",
   "version": "3.6.10"
  }
 },
 "nbformat": 4,
 "nbformat_minor": 4
}
