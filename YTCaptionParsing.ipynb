{
 "cells": [
  {
   "cell_type": "code",
   "execution_count": 1,
   "metadata": {},
   "outputs": [],
   "source": [
    "%load_ext autoreload\n",
    "%autoreload 2"
   ]
  },
  {
   "cell_type": "code",
   "execution_count": 46,
   "metadata": {},
   "outputs": [],
   "source": [
    "import glob\n",
    "import youtube as yt\n",
    "import json\n",
    "import pandas as pd\n",
    "import spacy"
   ]
  },
  {
   "cell_type": "code",
   "execution_count": 108,
   "metadata": {},
   "outputs": [
    {
     "data": {
      "text/plain": [
       "\"Coming this summer. They're finally going to make a movie about me! The story of Batman's greatest ally. That's me. That must be me! And best friend in the whole world. Finally! Alfred: The Movie. It's time to clean up this city. - That actually does look pretty good. - I'd go see it. ♪  Just a young gun with a quick fuse ♪ They're really making movies about every superhero. Has there been a movie about you? There was a Green Lantern movie. But we don't talk about that. It's time they make one about me. I'm afraid it's no. I only make movies about real super heroes. [laughter] ♪  Dreaming 'bout being a big star ♪ Why don't they take us seriously? Titans, you guys are never actually doing anything heroic. What about that time we discovered that sweet diner? And they had that food! - Oh yeah. - Oh, yes. That wasn't even a crime and you didn't save anything. We saved room for dessert! Oh! Right in your face! ♪  Thunder! ♪ Having a movie is the only way to be seen as a real hero. What about an archnemesis? ♪  Thunder, feel the thunder ♪ ♪  Lightning and the thunder ♪ Stop right there. Deadpool? Deadpool? What? Why does everybody think I'm Deadpool? I thought Deadpool was a good guy. By the way, he should be saying that he's not me. Okay, 'cause I came out like way before he did. Nah, I'm pretty sure you're Deadpool. I am Slade! If we can make him our arch nemesis, then they will see that we're worthy of a movie. I'm not interested in fighting a bunch of sidekicks and a half a robot. Aw man! I'm never letting you fly my body again! The whole world will be under my control! [gasps] Destroy them! ♪  How big is your army? 100,000 ♪ Halt for the mighty Atom-- [grunt] ♪  Watch me! Watch me! Watch me do this ♪ ♪  It's always been more than the music ♪ ♪  You riding waves in the back of my cruise ship ♪ ♪  Look watch me, watch me ♪ Kitties! We're taking you down! How are you gonna do it? What are you gonna do? Are you gonna fart on me? You want to have a dance off? You gonna annoy me to death with your waffles? ♪  Hey! ♪\""
      ]
     },
     "execution_count": 108,
     "metadata": {},
     "output_type": "execute_result"
    }
   ],
   "source": [
    "caption_paths = glob.glob('data/yt_captions/*')\n",
    "# Example\n",
    "caption = yt.YTCaption(caption_paths[2])\n",
    "caption.text"
   ]
  },
  {
   "cell_type": "code",
   "execution_count": 109,
   "metadata": {},
   "outputs": [
    {
     "name": "stdout",
     "output_type": "stream",
     "text": [
      "Invalid JSON for data/yt_captions/xlg052EKMtk.json. Check or delete.\n"
     ]
    }
   ],
   "source": [
    "all_text = \"\"\n",
    "for path in caption_paths:\n",
    "    try:\n",
    "        caption = YTCaption(path)\n",
    "        all_text += '\\n' + caption.text\n",
    "    except KeyboardInterrupt:\n",
    "        raise\n",
    "    except json.JSONDecodeError:\n",
    "        print('Invalid JSON for {}. Check or delete.'.format(path))\n",
    "    except:\n",
    "        print('Error with {}'.format(path))"
   ]
  },
  {
   "cell_type": "markdown",
   "metadata": {},
   "source": [
    "### Top Words"
   ]
  },
  {
   "cell_type": "code",
   "execution_count": 110,
   "metadata": {},
   "outputs": [],
   "source": [
    "nlp = spacy.load('en_core_web_sm')"
   ]
  },
  {
   "cell_type": "code",
   "execution_count": 111,
   "metadata": {},
   "outputs": [
    {
     "name": "stdout",
     "output_type": "stream",
     "text": [
      "go like oh let look come know want right get okay time little yes good yeah think hey need way to thing help start big guy find water work use play day try eat color great tell kid friend today ha harness love line people music say leave kind lot fun thank chat mean stop maggie watch new learn ready wow make hand wait mom sure video well bite call hello long food paper away different feel run cut draw game laugh happen take home bye animal cool job jen blue live alright earth nice house small open piece write car eye place turn red chloe maybe man fast inside year jenna ok hi child ball glue stick plant world school happy motu super talk tree kids actually question ask build add hear bring sorry green head paint close see baby boy chris subscribe idea end letter god brother light monster hold uh catch save steve book whoa truck numb will stay leg toy give family fly body check grow shape jump pretty sun click remember girl white old foot awesome word jennifer welcome life thanks hard black sound fall break easy bad sir miss yellow ice problem ah sit hope face win change forget middle door finger fish cat planet dog set room minute bird air dad stand real story clean aayu um meet guess walk hmm orange night hide circle bear rock point pencil drink special star power round favorite space sister huh patlu fire stuff flower scare share read able hot pull arm cold believe mother pick christmas finish straight create dance worry train wear listen bus important beautiful everybody high sleep step 2 cause outside land late egg move enjoy begin lose dear far follow pink half o box john soon wrong probably ahead hit cake touch cup phone parent cream size dinosaur taste disappear channel money heart moon week large human answer peter object have system dry haha push send son aumsum halloween mouth care fine present funny definitely tooth chocolate rainbow strong wonder show reach roll amaze dark tail fill purple join course understand cover form lift cussly sky magic jesus bag free steininger quickly challenge father martin ocean shark hair button matt ear teach pop perfect buy ride case drive cute bed picture pizza birthday slow cell trick part hole banana sweet class energy plan brush mommy ronald cry yay party woman nose spider lord ooh model rest milk city fruit engine safe bell grab blood plastic instead craft count race boat ring naughty track donner wide climb teacher wash person triangle jack example student swim gasp throw spot wish surface keep monkey mix excite computer wanna grind low wall team s beat cheese plate lie forward order surprise sign project scream seven chacha scary force type drop table decide rain sea mind one fight boss song sing curve creature hour doctor escape choose chingum speak park seed morning butterfly vir tiny apple smell number coming knee lego king level brain card wing\n"
     ]
    },
    {
     "data": {
      "text/plain": [
       "go         6987\n",
       "like       6782\n",
       "oh         6151\n",
       "let        4777\n",
       "look       4188\n",
       "come       3943\n",
       "know       3452\n",
       "want       3333\n",
       "right      3303\n",
       "get        3292\n",
       "okay       2877\n",
       "time       2799\n",
       "little     2744\n",
       "yes        2743\n",
       "good       2627\n",
       "yeah       2517\n",
       "think      2492\n",
       "hey        2102\n",
       "need       2052\n",
       "way        2004\n",
       "to         1877\n",
       "thing      1856\n",
       "help       1792\n",
       "start      1769\n",
       "big        1763\n",
       "guy        1645\n",
       "find       1641\n",
       "water      1497\n",
       "work       1471\n",
       "use        1441\n",
       "play       1431\n",
       "day        1427\n",
       "try        1387\n",
       "eat        1368\n",
       "color      1367\n",
       "great      1305\n",
       "tell       1270\n",
       "kid        1257\n",
       "friend     1235\n",
       "today      1219\n",
       "ha         1177\n",
       "harness    1164\n",
       "love       1160\n",
       "line       1145\n",
       "people     1140\n",
       "music      1129\n",
       "say        1101\n",
       "leave      1089\n",
       "kind       1061\n",
       "lot        1059\n",
       "dtype: int64"
      ]
     },
     "execution_count": 111,
     "metadata": {},
     "output_type": "execute_result"
    }
   ],
   "source": [
    "all_words = []\n",
    "for x in all_text.split('\\n'):\n",
    "    doc = nlp(x, disable=['parser', 'tagger','ner','textcat'])\n",
    "    all_words += [word.lemma_.lower() for word in doc if (not word.is_stop) and word.is_alpha]\n",
    "top_words = pd.Series(all_words).value_counts()\n",
    "print(\" \".join(top_words.head(500).index.tolist()))\n",
    "top_words.head(50)"
   ]
  },
  {
   "cell_type": "markdown",
   "metadata": {},
   "source": [
    "### Number of words in the dataset (so far)"
   ]
  },
  {
   "cell_type": "code",
   "execution_count": 112,
   "metadata": {},
   "outputs": [
    {
     "data": {
      "text/plain": [
       "1129460"
      ]
     },
     "execution_count": 112,
     "metadata": {},
     "output_type": "execute_result"
    }
   ],
   "source": [
    "len(all_text.split())"
   ]
  }
 ],
 "metadata": {
  "kernelspec": {
   "display_name": "Python 3",
   "language": "python",
   "name": "python3"
  },
  "language_info": {
   "codemirror_mode": {
    "name": "ipython",
    "version": 3
   },
   "file_extension": ".py",
   "mimetype": "text/x-python",
   "name": "python",
   "nbconvert_exporter": "python",
   "pygments_lexer": "ipython3",
   "version": "3.6.10"
  }
 },
 "nbformat": 4,
 "nbformat_minor": 4
}
