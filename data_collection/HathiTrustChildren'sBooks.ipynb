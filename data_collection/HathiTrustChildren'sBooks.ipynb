{
 "cells": [
  {
   "cell_type": "markdown",
   "metadata": {},
   "source": [
    "## Identifying and Collecting Children's and Young Adult Fiction Books"
   ]
  },
  {
   "cell_type": "code",
   "execution_count": 2,
   "metadata": {},
   "outputs": [],
   "source": [
    "%load_ext autoreload\n",
    "%autoreload 2\n",
    "import pandas as pd\n",
    "import numpy as np\n",
    "import os\n",
    "import json\n",
    "from htrc_features import Volume\n",
    "from compare_tools.hathimeta import HathiMeta\n",
    "from compare_tools.configuration import config\n",
    "config.update(config['full'])\n",
    "meta = HathiMeta(config['metadb_path'])"
   ]
  },
  {
   "cell_type": "code",
   "execution_count": null,
   "metadata": {},
   "outputs": [],
   "source": [
    "all_classes = []\n",
    "with open('/data/hathifiles/classification_nums.csv', mode='r') as f:\n",
    "    for line in f.readlines():\n",
    "        try:\n",
    "            htid, raw_class = line.strip().split('\\t')\n",
    "        except:\n",
    "            continue\n",
    "        class_dict = json.loads(raw_class)\n",
    "        if class_dict is not None:\n",
    "            lcc = class_dict['lcc'] if 'lcc' in class_dict else None\n",
    "            ddc = class_dict['ddc'] if 'ddc' in class_dict else None\n",
    "            all_classes.append((htid, lcc, ddc))\n",
    "        else:\n",
    "            all_classes.append((htid, None, None))\n",
    "df = pd.DataFrame(all_classes, columns=['htid','lcc','ddc'])"
   ]
  },
  {
   "cell_type": "markdown",
   "metadata": {},
   "source": [
    "On classifying Children's and Young Adult books.\n",
    "\n",
    "https://www.loc.gov/aba/cyac/classification.html\n",
    "\n",
    "PZ7 in LCC\n",
    "\n",
    "```\n",
    "[E] and [Fic] appear on CYAC records in the 082, Dewey Decimal Classification number field.\n",
    "\n",
    "[E] is used for easy fiction intended for children through grade 3 or age 8. With the exception of alphabet and counting books, [E] is not used on nonfiction material. [Fic] applies to fiction for children beyond grade 3 or age 8, as well as young adults through high school.  These designations are added by CYAC catalogers.\n",
    "```"
   ]
  },
  {
   "cell_type": "code",
   "execution_count": 4,
   "metadata": {},
   "outputs": [
    {
     "name": "stdout",
     "output_type": "stream",
     "text": [
      "(14493, 3)\n"
     ]
    },
    {
     "data": {
      "text/html": [
       "<div>\n",
       "<style scoped>\n",
       "    .dataframe tbody tr th:only-of-type {\n",
       "        vertical-align: middle;\n",
       "    }\n",
       "\n",
       "    .dataframe tbody tr th {\n",
       "        vertical-align: top;\n",
       "    }\n",
       "\n",
       "    .dataframe thead th {\n",
       "        text-align: right;\n",
       "    }\n",
       "</style>\n",
       "<table border=\"1\" class=\"dataframe\">\n",
       "  <thead>\n",
       "    <tr style=\"text-align: right;\">\n",
       "      <th></th>\n",
       "      <th>htid</th>\n",
       "      <th>lcc</th>\n",
       "      <th>ddc</th>\n",
       "    </tr>\n",
       "  </thead>\n",
       "  <tbody>\n",
       "    <tr>\n",
       "      <th>1961164</th>\n",
       "      <td>mdp.39015024090410</td>\n",
       "      <td>[PZ7.O34 Pi]</td>\n",
       "      <td>[[Fic]]</td>\n",
       "    </tr>\n",
       "    <tr>\n",
       "      <th>4679912</th>\n",
       "      <td>pst.000032220520</td>\n",
       "      <td>[PZ7.M64 Ho 1991]</td>\n",
       "      <td>None</td>\n",
       "    </tr>\n",
       "    <tr>\n",
       "      <th>2030549</th>\n",
       "      <td>mdp.39015078566752</td>\n",
       "      <td>[PZ7.S979G L]</td>\n",
       "      <td>None</td>\n",
       "    </tr>\n",
       "    <tr>\n",
       "      <th>5187525</th>\n",
       "      <td>mdp.39015085435389</td>\n",
       "      <td>[PZ7.H772 Oua 1913]</td>\n",
       "      <td>[Fic]</td>\n",
       "    </tr>\n",
       "    <tr>\n",
       "      <th>1777467</th>\n",
       "      <td>mdp.39015010764226</td>\n",
       "      <td>[PZ7.N24 St 1982]</td>\n",
       "      <td>[[Fic]]</td>\n",
       "    </tr>\n",
       "    <tr>\n",
       "      <th>7778841</th>\n",
       "      <td>txu.059173025376882</td>\n",
       "      <td>[PZ7.W882 Gv]</td>\n",
       "      <td>[[E]]</td>\n",
       "    </tr>\n",
       "    <tr>\n",
       "      <th>1961432</th>\n",
       "      <td>mdp.39015004714468</td>\n",
       "      <td>[PZ7.W329 Mag]</td>\n",
       "      <td>[813/.5/4 Fic]</td>\n",
       "    </tr>\n",
       "    <tr>\n",
       "      <th>7081776</th>\n",
       "      <td>pst.000049772128</td>\n",
       "      <td>[PZ7.G4824 Wo 1993]</td>\n",
       "      <td>None</td>\n",
       "    </tr>\n",
       "    <tr>\n",
       "      <th>3766636</th>\n",
       "      <td>mdp.49015002796101</td>\n",
       "      <td>[PZ7.B76524 Ho 1988]</td>\n",
       "      <td>None</td>\n",
       "    </tr>\n",
       "    <tr>\n",
       "      <th>2134215</th>\n",
       "      <td>mdp.39015013789428</td>\n",
       "      <td>None</td>\n",
       "      <td>[[Fic]]</td>\n",
       "    </tr>\n",
       "  </tbody>\n",
       "</table>\n",
       "</div>"
      ],
      "text/plain": [
       "                        htid                   lcc             ddc\n",
       "1961164   mdp.39015024090410          [PZ7.O34 Pi]         [[Fic]]\n",
       "4679912     pst.000032220520     [PZ7.M64 Ho 1991]            None\n",
       "2030549   mdp.39015078566752         [PZ7.S979G L]            None\n",
       "5187525   mdp.39015085435389   [PZ7.H772 Oua 1913]           [Fic]\n",
       "1777467   mdp.39015010764226     [PZ7.N24 St 1982]         [[Fic]]\n",
       "7778841  txu.059173025376882         [PZ7.W882 Gv]           [[E]]\n",
       "1961432   mdp.39015004714468        [PZ7.W329 Mag]  [813/.5/4 Fic]\n",
       "7081776     pst.000049772128   [PZ7.G4824 Wo 1993]            None\n",
       "3766636   mdp.49015002796101  [PZ7.B76524 Ho 1988]            None\n",
       "2134215   mdp.39015013789428                  None         [[Fic]]"
      ]
     },
     "execution_count": 4,
     "metadata": {},
     "output_type": "execute_result"
    }
   ],
   "source": [
    "kids_book_path = '/data/motes/kids_books.parquet'\n",
    "\n",
    "if os.path.exists(kids_book_path):\n",
    "    kidsbooks = pd.read_parquet(kids_book_path)\n",
    "else:\n",
    "    ddc_matches = df.ddc.apply(json.dumps).str.contains('\\[(E|Fic)\\]')\n",
    "    lcc_matches = df.lcc.apply(json.dumps).str.contains('PZ7')\n",
    "    kidsbooks = df[lcc_matches | ddc_matches]\n",
    "    kidsbooks.to_parquet(kids_book_path)\n",
    "print(kidsbooks.shape)\n",
    "kidsbooks.sample(10)"
   ]
  },
  {
   "cell_type": "code",
   "execution_count": 5,
   "metadata": {},
   "outputs": [
    {
     "name": "stderr",
     "output_type": "stream",
     "text": [
      "/opt/conda/lib/python3.6/site-packages/IPython/core/interactiveshell.py:3072: DtypeWarning: Columns (16) have mixed types.Specify dtype option on import or set low_memory=False.\n",
      "  interactivity=interactivity, compiler=compiler, result=result)\n",
      "/opt/conda/lib/python3.6/site-packages/pandas/core/generic.py:5303: SettingWithCopyWarning: \n",
      "A value is trying to be set on a copy of a slice from a DataFrame.\n",
      "Try using .loc[row_indexer,col_indexer] = value instead\n",
      "\n",
      "See the caveats in the documentation: https://pandas.pydata.org/pandas-docs/stable/user_guide/indexing.html#returning-a-view-versus-a-copy\n",
      "  self[name] = value\n"
     ]
    },
    {
     "data": {
      "text/html": [
       "<div>\n",
       "<style scoped>\n",
       "    .dataframe tbody tr th:only-of-type {\n",
       "        vertical-align: middle;\n",
       "    }\n",
       "\n",
       "    .dataframe tbody tr th {\n",
       "        vertical-align: top;\n",
       "    }\n",
       "\n",
       "    .dataframe thead th {\n",
       "        text-align: right;\n",
       "    }\n",
       "</style>\n",
       "<table border=\"1\" class=\"dataframe\">\n",
       "  <thead>\n",
       "    <tr style=\"text-align: right;\">\n",
       "      <th></th>\n",
       "      <th>htid</th>\n",
       "      <th>title</th>\n",
       "      <th>rights_date_used</th>\n",
       "    </tr>\n",
       "  </thead>\n",
       "  <tbody>\n",
       "    <tr>\n",
       "      <th>7855883</th>\n",
       "      <td>osu.32435055544662</td>\n",
       "      <td>The X Bar X boys at the strange rodeo, by Jame...</td>\n",
       "      <td>1935.0</td>\n",
       "    </tr>\n",
       "    <tr>\n",
       "      <th>4080119</th>\n",
       "      <td>uc1.b4098756</td>\n",
       "      <td>A triumph for Flavius. Illustrated by Cedric R...</td>\n",
       "      <td>1955.0</td>\n",
       "    </tr>\n",
       "    <tr>\n",
       "      <th>4076329</th>\n",
       "      <td>uc1.b4087590</td>\n",
       "      <td>The secret garden; illus. by Nora S. Unwin.</td>\n",
       "      <td>1949.0</td>\n",
       "    </tr>\n",
       "    <tr>\n",
       "      <th>4479073</th>\n",
       "      <td>pst.000056189162</td>\n",
       "      <td>Season of the sandstorms / by Mary Pope Osborn...</td>\n",
       "      <td>2005.0</td>\n",
       "    </tr>\n",
       "    <tr>\n",
       "      <th>3521049</th>\n",
       "      <td>mdp.49015000898818</td>\n",
       "      <td>I know you, Al / Constance C. Greene ; illustr...</td>\n",
       "      <td>1975.0</td>\n",
       "    </tr>\n",
       "    <tr>\n",
       "      <th>4780946</th>\n",
       "      <td>pst.000025149524</td>\n",
       "      <td>She's my sister :  having a retarded sister / ...</td>\n",
       "      <td>1982.0</td>\n",
       "    </tr>\n",
       "    <tr>\n",
       "      <th>5640437</th>\n",
       "      <td>wu.89099780892</td>\n",
       "      <td>The Nürnberg stove,: and other stories, by Lo...</td>\n",
       "      <td>1924.0</td>\n",
       "    </tr>\n",
       "    <tr>\n",
       "      <th>3709750</th>\n",
       "      <td>mdp.39015073479191</td>\n",
       "      <td>Sturdy and strong, or, How George Andrews made...</td>\n",
       "      <td>1899.0</td>\n",
       "    </tr>\n",
       "    <tr>\n",
       "      <th>3582667</th>\n",
       "      <td>uva.x004811433</td>\n",
       "      <td>Wild about books / by Judy Sierra ; pictures b...</td>\n",
       "      <td>2004.0</td>\n",
       "    </tr>\n",
       "    <tr>\n",
       "      <th>3629337</th>\n",
       "      <td>mdp.39015063233814</td>\n",
       "      <td>Sweetgrass basket / by Marlene Carvell.</td>\n",
       "      <td>2005.0</td>\n",
       "    </tr>\n",
       "  </tbody>\n",
       "</table>\n",
       "</div>"
      ],
      "text/plain": [
       "                       htid  \\\n",
       "7855883  osu.32435055544662   \n",
       "4080119        uc1.b4098756   \n",
       "4076329        uc1.b4087590   \n",
       "4479073    pst.000056189162   \n",
       "3521049  mdp.49015000898818   \n",
       "4780946    pst.000025149524   \n",
       "5640437      wu.89099780892   \n",
       "3709750  mdp.39015073479191   \n",
       "3582667      uva.x004811433   \n",
       "3629337  mdp.39015063233814   \n",
       "\n",
       "                                                     title  rights_date_used  \n",
       "7855883  The X Bar X boys at the strange rodeo, by Jame...            1935.0  \n",
       "4080119  A triumph for Flavius. Illustrated by Cedric R...            1955.0  \n",
       "4076329        The secret garden; illus. by Nora S. Unwin.            1949.0  \n",
       "4479073  Season of the sandstorms / by Mary Pope Osborn...            2005.0  \n",
       "3521049  I know you, Al / Constance C. Greene ; illustr...            1975.0  \n",
       "4780946  She's my sister :  having a retarded sister / ...            1982.0  \n",
       "5640437  The Nürnberg stove,: and other stories, by Lo...            1924.0  \n",
       "3709750  Sturdy and strong, or, How George Andrews made...            1899.0  \n",
       "3582667  Wild about books / by Judy Sierra ; pictures b...            2004.0  \n",
       "3629337            Sweetgrass basket / by Marlene Carvell.            2005.0  "
      ]
     },
     "execution_count": 5,
     "metadata": {},
     "output_type": "execute_result"
    }
   ],
   "source": [
    "allmeta = pd.read_csv('/data/hathifiles/hathi_eng_20190201.txt.gz', sep=',',\n",
    "                      usecols=['htid', 'title', 'rights_date_used'])\n",
    "subset = allmeta[allmeta.htid.isin(kidsbooks.htid)]\n",
    "subset.rights_date_used = pd.to_numeric(subset.rights_date_used)\n",
    "del allmeta\n",
    "subset.sample(10)"
   ]
  },
  {
   "cell_type": "code",
   "execution_count": 8,
   "metadata": {},
   "outputs": [],
   "source": [
    "import matplotlib.pyplot as plt\n",
    "plt.style.use('fivethirtyeight')"
   ]
  },
  {
   "cell_type": "code",
   "execution_count": 14,
   "metadata": {},
   "outputs": [
    {
     "data": {
      "text/html": [
       "<div>\n",
       "<style scoped>\n",
       "    .dataframe tbody tr th:only-of-type {\n",
       "        vertical-align: middle;\n",
       "    }\n",
       "\n",
       "    .dataframe tbody tr th {\n",
       "        vertical-align: top;\n",
       "    }\n",
       "\n",
       "    .dataframe thead th {\n",
       "        text-align: right;\n",
       "    }\n",
       "</style>\n",
       "<table border=\"1\" class=\"dataframe\">\n",
       "  <thead>\n",
       "    <tr style=\"text-align: right;\">\n",
       "      <th></th>\n",
       "      <th>htid</th>\n",
       "      <th>title</th>\n",
       "      <th>rights_date_used</th>\n",
       "    </tr>\n",
       "  </thead>\n",
       "  <tbody>\n",
       "    <tr>\n",
       "      <th>64859</th>\n",
       "      <td>mdp.39015027558322</td>\n",
       "      <td>The carnival in my mind / Barbara Wersba.</td>\n",
       "      <td>1982.0</td>\n",
       "    </tr>\n",
       "    <tr>\n",
       "      <th>64860</th>\n",
       "      <td>mdp.39015001598088</td>\n",
       "      <td>Calling B for butterfly / Louise Lawrence.</td>\n",
       "      <td>1982.0</td>\n",
       "    </tr>\n",
       "    <tr>\n",
       "      <th>64865</th>\n",
       "      <td>mdp.39015001805715</td>\n",
       "      <td>A handful of stars / Barbara Girion.</td>\n",
       "      <td>1981.0</td>\n",
       "    </tr>\n",
       "    <tr>\n",
       "      <th>70241</th>\n",
       "      <td>mdp.39015059378680</td>\n",
       "      <td>Northend Wildcats, by Clyde Brion Davis; illus...</td>\n",
       "      <td>1938.0</td>\n",
       "    </tr>\n",
       "    <tr>\n",
       "      <th>70242</th>\n",
       "      <td>uc1.$b236163</td>\n",
       "      <td>Northend Wildcats, by Clyde Brion Davis; illus...</td>\n",
       "      <td>1938.0</td>\n",
       "    </tr>\n",
       "    <tr>\n",
       "      <th>...</th>\n",
       "      <td>...</td>\n",
       "      <td>...</td>\n",
       "      <td>...</td>\n",
       "    </tr>\n",
       "    <tr>\n",
       "      <th>8420796</th>\n",
       "      <td>uva.x001687598</td>\n",
       "      <td>Ola, by Ingri &amp; Edgar Parin d'Aulaire.</td>\n",
       "      <td>1949.0</td>\n",
       "    </tr>\n",
       "    <tr>\n",
       "      <th>8420798</th>\n",
       "      <td>uva.x000378933</td>\n",
       "      <td>White snow, bright snow; illus. by Roger Duvoi...</td>\n",
       "      <td>1959.0</td>\n",
       "    </tr>\n",
       "    <tr>\n",
       "      <th>8420811</th>\n",
       "      <td>uva.x001243931</td>\n",
       "      <td>Lone star rebel, by J. A. Benner. Woodcuts by ...</td>\n",
       "      <td>1971.0</td>\n",
       "    </tr>\n",
       "    <tr>\n",
       "      <th>8420939</th>\n",
       "      <td>uva.x000623427</td>\n",
       "      <td>The witch in the cherry tree. Pictures by Jenn...</td>\n",
       "      <td>1974.0</td>\n",
       "    </tr>\n",
       "    <tr>\n",
       "      <th>8423615</th>\n",
       "      <td>uva.x000952880</td>\n",
       "      <td>The bell of Nendrum / J.S. Andrews.</td>\n",
       "      <td>1985.0</td>\n",
       "    </tr>\n",
       "  </tbody>\n",
       "</table>\n",
       "<p>14345 rows × 3 columns</p>\n",
       "</div>"
      ],
      "text/plain": [
       "                       htid  \\\n",
       "64859    mdp.39015027558322   \n",
       "64860    mdp.39015001598088   \n",
       "64865    mdp.39015001805715   \n",
       "70241    mdp.39015059378680   \n",
       "70242          uc1.$b236163   \n",
       "...                     ...   \n",
       "8420796      uva.x001687598   \n",
       "8420798      uva.x000378933   \n",
       "8420811      uva.x001243931   \n",
       "8420939      uva.x000623427   \n",
       "8423615      uva.x000952880   \n",
       "\n",
       "                                                     title  rights_date_used  \n",
       "64859            The carnival in my mind / Barbara Wersba.            1982.0  \n",
       "64860           Calling B for butterfly / Louise Lawrence.            1982.0  \n",
       "64865                 A handful of stars / Barbara Girion.            1981.0  \n",
       "70241    Northend Wildcats, by Clyde Brion Davis; illus...            1938.0  \n",
       "70242    Northend Wildcats, by Clyde Brion Davis; illus...            1938.0  \n",
       "...                                                    ...               ...  \n",
       "8420796             Ola, by Ingri & Edgar Parin d'Aulaire.            1949.0  \n",
       "8420798  White snow, bright snow; illus. by Roger Duvoi...            1959.0  \n",
       "8420811  Lone star rebel, by J. A. Benner. Woodcuts by ...            1971.0  \n",
       "8420939  The witch in the cherry tree. Pictures by Jenn...            1974.0  \n",
       "8423615                The bell of Nendrum / J.S. Andrews.            1985.0  \n",
       "\n",
       "[14345 rows x 3 columns]"
      ]
     },
     "execution_count": 14,
     "metadata": {},
     "output_type": "execute_result"
    }
   ],
   "source": [
    "subset"
   ]
  },
  {
   "cell_type": "code",
   "execution_count": 22,
   "metadata": {},
   "outputs": [
    {
     "data": {
      "text/plain": [
       "<AxesSubplot:ylabel='Frequency'>"
      ]
     },
     "execution_count": 22,
     "metadata": {},
     "output_type": "execute_result"
    },
    {
     "data": {
      "image/png": "[encoded data removed]",
      "text/plain": [
       "<Figure size 1200x800 with 1 Axes>"
      ]
     },
     "metadata": {},
     "output_type": "display_data"
    }
   ],
   "source": [
    "fig = plt.figure(dpi=200)\n",
    "subset.rights_date_used[(subset.rights_date_used < 2018) & (subset.rights_date_used > 1850)].plot(kind='hist', bins=30)"
   ]
  },
  {
   "cell_type": "code",
   "execution_count": 16,
   "metadata": {},
   "outputs": [
    {
     "data": {
      "text/plain": [
       "<Figure size 432x288 with 0 Axes>"
      ]
     },
     "metadata": {},
     "output_type": "display_data"
    }
   ],
   "source": []
  },
  {
   "cell_type": "code",
   "execution_count": 7,
   "metadata": {},
   "outputs": [
    {
     "data": {
      "text/plain": [
       "1977.0"
      ]
     },
     "execution_count": 7,
     "metadata": {},
     "output_type": "execute_result"
    }
   ],
   "source": [
    "subset.rights_date_used.median()"
   ]
  },
  {
   "cell_type": "code",
   "execution_count": 24,
   "metadata": {},
   "outputs": [
    {
     "data": {
      "text/html": [
       "<div>\n",
       "<style scoped>\n",
       "    .dataframe tbody tr th:only-of-type {\n",
       "        vertical-align: middle;\n",
       "    }\n",
       "\n",
       "    .dataframe tbody tr th {\n",
       "        vertical-align: top;\n",
       "    }\n",
       "\n",
       "    .dataframe thead th {\n",
       "        text-align: right;\n",
       "    }\n",
       "</style>\n",
       "<table border=\"1\" class=\"dataframe\">\n",
       "  <thead>\n",
       "    <tr style=\"text-align: right;\">\n",
       "      <th></th>\n",
       "      <th>htid</th>\n",
       "      <th>title</th>\n",
       "      <th>rights_date_used</th>\n",
       "    </tr>\n",
       "  </thead>\n",
       "  <tbody>\n",
       "    <tr>\n",
       "      <th>3230242</th>\n",
       "      <td>mdp.39015056315982</td>\n",
       "      <td>The dot &amp; the line : a romance in lower mathem...</td>\n",
       "      <td>2001.0</td>\n",
       "    </tr>\n",
       "    <tr>\n",
       "      <th>3241857</th>\n",
       "      <td>mdp.39015058097349</td>\n",
       "      <td>Waiting for Christopher : a novel / by Louise ...</td>\n",
       "      <td>2002.0</td>\n",
       "    </tr>\n",
       "    <tr>\n",
       "      <th>3434545</th>\n",
       "      <td>mdp.39015050730988</td>\n",
       "      <td>Troy / Adèle Geras.</td>\n",
       "      <td>2001.0</td>\n",
       "    </tr>\n",
       "    <tr>\n",
       "      <th>3435280</th>\n",
       "      <td>uva.x004524154</td>\n",
       "      <td>Princess in the spotlight / Meg Cabot.</td>\n",
       "      <td>2001.0</td>\n",
       "    </tr>\n",
       "    <tr>\n",
       "      <th>3435282</th>\n",
       "      <td>mdp.39015053386432</td>\n",
       "      <td>The magnificent piano recital / written by Mar...</td>\n",
       "      <td>2001.0</td>\n",
       "    </tr>\n",
       "    <tr>\n",
       "      <th>...</th>\n",
       "      <td>...</td>\n",
       "      <td>...</td>\n",
       "      <td>...</td>\n",
       "    </tr>\n",
       "    <tr>\n",
       "      <th>8396362</th>\n",
       "      <td>uva.x030563029</td>\n",
       "      <td>Under siege / Richard Harland ; illustrated by...</td>\n",
       "      <td>2008.0</td>\n",
       "    </tr>\n",
       "    <tr>\n",
       "      <th>8396593</th>\n",
       "      <td>uva.x030694597</td>\n",
       "      <td>Under the quilt of night / by Deborah Hopkinso...</td>\n",
       "      <td>2002.0</td>\n",
       "    </tr>\n",
       "    <tr>\n",
       "      <th>8396716</th>\n",
       "      <td>uva.x030609661</td>\n",
       "      <td>Silver phoenix : beyond the kingdom of Xia / C...</td>\n",
       "      <td>2009.0</td>\n",
       "    </tr>\n",
       "    <tr>\n",
       "      <th>8396717</th>\n",
       "      <td>uva.x030611742</td>\n",
       "      <td>The treasure map of boys : Noel, Jackson, Finn...</td>\n",
       "      <td>2009.0</td>\n",
       "    </tr>\n",
       "    <tr>\n",
       "      <th>8397091</th>\n",
       "      <td>uva.x030610215</td>\n",
       "      <td>A rose for the Anzac boys / Jackie French.</td>\n",
       "      <td>2008.0</td>\n",
       "    </tr>\n",
       "  </tbody>\n",
       "</table>\n",
       "<p>2312 rows × 3 columns</p>\n",
       "</div>"
      ],
      "text/plain": [
       "                       htid  \\\n",
       "3230242  mdp.39015056315982   \n",
       "3241857  mdp.39015058097349   \n",
       "3434545  mdp.39015050730988   \n",
       "3435280      uva.x004524154   \n",
       "3435282  mdp.39015053386432   \n",
       "...                     ...   \n",
       "8396362      uva.x030563029   \n",
       "8396593      uva.x030694597   \n",
       "8396716      uva.x030609661   \n",
       "8396717      uva.x030611742   \n",
       "8397091      uva.x030610215   \n",
       "\n",
       "                                                     title  rights_date_used  \n",
       "3230242  The dot & the line : a romance in lower mathem...            2001.0  \n",
       "3241857  Waiting for Christopher : a novel / by Louise ...            2002.0  \n",
       "3434545                                Troy / Adèle Geras.            2001.0  \n",
       "3435280             Princess in the spotlight / Meg Cabot.            2001.0  \n",
       "3435282  The magnificent piano recital / written by Mar...            2001.0  \n",
       "...                                                    ...               ...  \n",
       "8396362  Under siege / Richard Harland ; illustrated by...            2008.0  \n",
       "8396593  Under the quilt of night / by Deborah Hopkinso...            2002.0  \n",
       "8396716  Silver phoenix : beyond the kingdom of Xia / C...            2009.0  \n",
       "8396717  The treasure map of boys : Noel, Jackson, Finn...            2009.0  \n",
       "8397091         A rose for the Anzac boys / Jackie French.            2008.0  \n",
       "\n",
       "[2312 rows x 3 columns]"
      ]
     },
     "execution_count": 24,
     "metadata": {},
     "output_type": "execute_result"
    }
   ],
   "source": [
    "subset[(subset.rights_date_used > 2000) & (subset.rights_date_used <= 2010)]"
   ]
  },
  {
   "cell_type": "code",
   "execution_count": 47,
   "metadata": {},
   "outputs": [
    {
     "name": "stdout",
     "output_type": "stream",
     "text": [
      "1850 1910 2039\n",
      "1910 1950 1966\n",
      "1950 1970 2320\n",
      "1970 1980 1274\n",
      "1980 1990 1566\n",
      "1990 2000 2821\n",
      "2000 2005 1271\n",
      "2005 2010 1041\n"
     ]
    }
   ],
   "source": [
    "ranges = [1850, 1910, 1950, 1970, 1980, 1990, 2000, 2005, 2010]\n",
    "for start, end in list(zip(ranges[:-1], ranges[1:])):\n",
    "    date_selection = subset[(subset.rights_date_used > start) & (subset.rights_date_used <= end)]\n",
    "    print(start, end, date_selection.shape[0])\n",
    "    os.makedirs('/data/motes/ht_coocs/{}'.format(start), exist_ok=True)\n",
    "    \n",
    "    with open('/data/motes/kids_books_{}-{}.txt'.format(start, end), mode='w') as f:\n",
    "        f.write(\"\\n\".join(date_selection.htid.tolist()))"
   ]
  },
  {
   "cell_type": "code",
   "execution_count": 5,
   "metadata": {},
   "outputs": [
    {
     "data": {
      "text/plain": [
       "'/data/extracted-features-parquet-stubby/uc1/b88/uc1.b4088188.tokens.parquet'"
      ]
     },
     "execution_count": 5,
     "metadata": {},
     "output_type": "execute_result"
    }
   ],
   "source": [
    "from htrc_features import utils\n",
    "book_paths = (['/data/extracted-features-parquet-stubby/{}.tokens.parquet'.format(utils.id_to_stubbytree(htid)) for htid in kidsbooks.htid])\n",
    "book_paths[0]"
   ]
  },
  {
   "cell_type": "code",
   "execution_count": 6,
   "metadata": {},
   "outputs": [
    {
     "data": {
      "text/plain": [
       "<__main__.HathiCorpus at 0x7f70d401c6d8>"
      ]
     },
     "execution_count": 6,
     "metadata": {},
     "output_type": "execute_result"
    }
   ],
   "source": [
    "htcorpus = HathiCorpus(book_paths[:5])\n",
    "for i, tokens in enumerate(htcorpus.tokens()):\n",
    "    print(i, tokens)"
   ]
  },
  {
   "cell_type": "code",
   "execution_count": null,
   "metadata": {},
   "outputs": [],
   "source": [
    "def get_all_booklist_tokens(htids):\n",
    "    collector = []\n",
    "    all_df = pd.DataFrame([], columns=['lowercase', 'count'])\n",
    "    for i, htid in enumerate(htids):\n",
    "        try:\n",
    "            vol = Volume(htid, format='parquet', id_resolver='stubbytree',\n",
    "                         dir='/data/extracted-features-parquet-stubby/')\n",
    "            tl = vol.tokenlist(pos=False, pages=False, case=False)\n",
    "        except:\n",
    "            print('Err', htid)\n",
    "            continue\n",
    "        tl = tl[tl['count'] > 2].reset_index()\n",
    "        collector.append(tl)\n",
    "        if i % 100 == 0:\n",
    "            print(i, end=',')\n",
    "            all_df = pd.concat(collector).groupby('lowercase', as_index=False).sum()\n",
    "            all_df = all_df[all_df['count'] > 15]\n",
    "            collector = [all_df]\n",
    "    all_df = pd.concat(collector).groupby('lowercase').sum()\n",
    "    all_df = all_df[all_df['count'] > 15]\n",
    "    print()\n",
    "    # TODO ODDS RATIO AGAINST RANDOM BOOKS\n",
    "    all_df['odds'] = all_df['count'] / all_df['count'].sum()\n",
    "    return all_df\n",
    "\n",
    "kids_tokens = get_all_booklist_tokens(kidsbooks.htid)"
   ]
  },
  {
   "cell_type": "code",
   "execution_count": 1,
   "metadata": {},
   "outputs": [
    {
     "ename": "NameError",
     "evalue": "name 'kids_tokens' is not defined",
     "output_type": "error",
     "traceback": [
      "\u001b[0;31m---------------------------------------------------------------------------\u001b[0m",
      "\u001b[0;31mNameError\u001b[0m                                 Traceback (most recent call last)",
      "\u001b[0;32m<ipython-input-1-4ffb5180a123>\u001b[0m in \u001b[0;36m<module>\u001b[0;34m\u001b[0m\n\u001b[0;32m----> 1\u001b[0;31m \u001b[0mkids_tokens\u001b[0m\u001b[0;34m\u001b[0m\u001b[0;34m\u001b[0m\u001b[0m\n\u001b[0m",
      "\u001b[0;31mNameError\u001b[0m: name 'kids_tokens' is not defined"
     ]
    }
   ],
   "source": [
    "kids_tokens"
   ]
  },
  {
   "cell_type": "code",
   "execution_count": null,
   "metadata": {},
   "outputs": [],
   "source": [
    "rand_books = meta.sample(n=kidsbooks.shape[0], fields=['htid'])\n",
    "rand_tokens = get_all_booklist_tokens(rand_books.htid)"
   ]
  },
  {
   "cell_type": "markdown",
   "metadata": {},
   "source": [
    "Calculate Odds ratio between random books and kids books."
   ]
  },
  {
   "cell_type": "code",
   "execution_count": 24,
   "metadata": {},
   "outputs": [
    {
     "data": {
      "text/plain": [
       "lowercase\n",
       "heidi       88.090904\n",
       "dad         85.208264\n",
       "mom         83.681263\n",
       "grandpa     72.289692\n",
       "hugged      72.186902\n",
       "grinned     67.751733\n",
       "blinked     67.152995\n",
       "she’d       66.114792\n",
       "mumbled     63.883784\n",
       "grandma     63.313912\n",
       "nodded      62.076197\n",
       "“you’re     60.642638\n",
       "sniffed     60.233520\n",
       "yelled      57.929637\n",
       "brer        55.645651\n",
       "henty       55.491083\n",
       "mama        55.356594\n",
       "momma       54.981024\n",
       "poked       53.458201\n",
       "trotted     53.052295\n",
       "peered      52.330720\n",
       "shivered    52.204611\n",
       "chuckled    51.837807\n",
       "smelled     51.400973\n",
       "i'll        50.283764\n",
       "grabbed     49.707591\n",
       "“that’s     49.421746\n",
       "he’d        49.042239\n",
       "patted      48.896372\n",
       "shrugged    48.626655\n",
       "gasped      48.492204\n",
       "okay        48.315384\n",
       "t-shirt     48.303206\n",
       "grunted     47.253920\n",
       "frowned     46.760999\n",
       "georgie     46.589193\n",
       "hissed      46.285349\n",
       "patty       46.074249\n",
       "jody        45.997321\n",
       "skinny      45.766548\n",
       "Name: odds, dtype: float64"
      ]
     },
     "execution_count": 24,
     "metadata": {},
     "output_type": "execute_result"
    }
   ],
   "source": [
    "kodds = kids_tokens[kids_tokens['count'] > 300]['odds']\n",
    "rodds = rand_tokens[rand_tokens['count'] > 300]['odds']\n",
    "a = kodds / rodds\n",
    "b = a.dropna().sort_values(ascending=False)\n",
    "b.head(40)"
   ]
  },
  {
   "cell_type": "markdown",
   "metadata": {},
   "source": [
    "Words that are in the top 10k of the kids corpus but not then random books."
   ]
  },
  {
   "cell_type": "code",
   "execution_count": 25,
   "metadata": {},
   "outputs": [
    {
     "name": "stdout",
     "output_type": "stream",
     "text": [
      "['kicking', '12mo', 'outfit', 'straps', 'lagoon', 'warmed', 'backs', 'pinched', 'patrol', 'momo', 'apologize', 'stair', 'phantom', 'persuade', 'sallie', 'schoolmaster', 'toe', 'bandits', 'kissed', 'rustling', 'whispering', 'aroused', 'thumb', 'ramp', 'cups', 'dandy', 'hullo', 'delia', 'katy', 'sledge', 'alaine', 'mollie', 'terence', '\"how', 'hog', '“so', 'gaunt', 'jessica', 'perched', 'mutiny', 'disappointed', 'cute', 'muttered', 'thief', 'agony', 'bandit', 'duff', 'panther', 'shovel', 'graveyard', 'lavinia', 'laurence', 'nods', 'tasted', 'camilla', 'humphrey', 'roofs', 'choked', 'neatly', 'troubled', '“don’t', 'comrade', 'liza', 'wept', 'araminta', 'dripping', 'perrine', 'sentries', 'tightly', 'boatswain', 'knots', 'cricket', 'zoe', 'swear', 'penguin', 'tempted', 'yankees', 'stubborn', 'canoe', 'stays', 'rug', 'dreary', 'nico', '‘it', 'آ', 'locker', 'clifton', 'geoffrey', 'miranda', 'sheridan', 'falcon', 'balloon', 'frown', 'steaming', 'dey', 'trifle', 'cans', 'prue', 'hush', 'malleville', 'reckon', 'luis', 'folded', 'hauled', 'wen', 'loom', 'ballet', 'gesture', 'antelope', 'cockpit', 'bartholomew', 'retorted', 'suh', 'gratefully', 'quicker', \"tellin'\", 'hawkins', 'tess', 'busted', 'bothered', 'gigi', 'trigger', 'dining-room', 'chickens', 'hubert', 'stiff', 'afore', 'gemma', 'ludwig', 'elmer', 'bucks', 'submarine', '‘you', 'kristin', 'pip', 'bouncing', 'hesitated', 'disgrace', 'jeff', 'aunts', 'odor', 'padre', 'tenderness', '“oh', 'jew', 'wuz', 'clumsy', \"o'hara\", 'elias', 'prettiest', 'kid', 'skates', 'steed', 'nona', 'timid', 'lisa', '.&quot', 'flap', 'patsy', 'yn', 'winslow', 'expecting', 'ripe', 'nightmare', 'deadly', 'icy', 'jess', 'beating', 'dolores', 'swamp', 'marquis', 'hopeless', 'oddly', 'neat', 'blonde', 'drank', 'pod', 'betsey', 'stag', 'backpack', 'brad', 'elders', 'gambling', 'eli', '‹', 'scanned', 'gunnar', 'clung', 'spell', 'madam', 'laughing', 'berth', 'trim', 'jonas', 'anita', 'northward', 'goblin', 'ski', 'ladders', 'wrists', 'ﬂowers', 'pausing', 'passford', 'tempest', 'beau', 'lucas', 'bub', 'wonka', 'barton', 'wandering', 'blurted', 'seniors', 'corny', 'franny', 'hug', 'shaken', 'lowington', 'doyle', 'allison', 'dignified', 'bosom', \"'and\", 'fannin', 'overheard', 'rebel', 'stake', 'cleaned', 'cherries', 'encampment', 'it’s', 'spectators', 'satchel', 'zenta', 'nightfall', 'typewriter', 'hamlet', 'frightening', 'letting', 'photos', 'duck', 'tossing', 'slippers', 'vicki', \"'it\", 'hatch', 'yer', 'locket', 'lenny', 'troll', 'marcella', 'generals', 'garbage', 'motionless', 'hattie', 'jody', 'mam', 'knock', 'ernie', 'plunging', 'sylvie', 'pistol', 'spelling', 'they’re', 'sings', 'kathy', 'annie', 'petty', 'stupid', 'floss', 'vance', 'cedric', 'velvet', 'debbie', 'henrietta', 'phronsie', 'posy', 'devils', 'lovers', 'decidedly', 'sounded', \"gettin'\", 'miniature', 'maxie', 'shelby', 'waved', 'georgina', 'jar', 'nun', 'arabs', ']oe', 'comfortably', 'nowhere', 'starboard', 'neal', 'sights', 'hoping', 'mont', 'bunker', 'afloat', 'kinda', 'sumner', 'filthy', \"'twas\", '“because', 'revenge', 'nowadays', 'alongside', 'drusilla', 'i—', 'shorts', 'shaman', 'playground', 'dash', 'maggie', 'englishman', 'michel', 'aaron', 'shark', 'squeezed', 'audrey', 'token', 'traveler', 'rae', 'eyelids', 'footsteps', 'cutter', 'switched', 'glanced', 'toil', 'saddled', \"s'pose\", 'confidently', 'roused', 'mattress', 'lupita', 'doorbell', \"'im\", 'marines', 'addison', 'robin', 'he’d', 'gil', 'oar', 'willard', 'precipice', 'heidi', 'squaws', 'humph', 'wat', 'cheers', 'climb', 'tigers', 'giants', 'tug', 'slung', 'monstrous', 'deacon', 'dolphin', 'runners', '\"\\'tis', '’ll', 'curls', 'depended', 'gretel', 'brightly', 'burro', 'whereupon', 'scare', 'shuddered', 'skip', 'urging', 'tad', 'hunted', 'retire', 'fortunes', 'pursuers', 'comet', 'dangling', 'smart', 'pajamas', 'reverend', 'poisoned', 'boy’s', 'carly', 'frigate', 'raiders', 'willie', 'shaggy', 'cider', 'leans', 'nan', 'veronica', 'janey', 'harsh', 'greeted', 'descend', 'glare', 'buddy', 'uneasy', 'gascoyne', 'bubbles', 'scouts', 'juliet', 'pools', 'exquisite', 'hurled', 'laurel', 'gavan', 'cluny', 'iris', 'partridge', 'millie', 'sang', 'julius', 'gerard', 'detective', 'rusty', 'defiance', 'cowardly', 'sausage', 'hesitation', '“your', 'sucking', 'hail', 'goddess', 'popped', 'ropes', 'blinked', 'cordial', 'beasts', 'dar', 'dishes', 'wholesome', 'outdoors', 'tongues', 'rascals', 'toby', 'biddy', 'buckets', 'lars', 'queried', 'rodney', 'weariness', 'jeep', 'someplace', 'wilton', 'onions', 'needles', 'banana', 'sorter', 'doughnuts', 'rested', 'belinda', \"lookin'\", 'plow', 'kangaroo', 'gladys', 'daybreak', 'forecastle', 'kitten', 'beatrice', 'buzzard', 'torrent', 'tag', 'uneasiness', 'treacherous', 'agatha', 'groaned', 'jagged', 'you’re', 'boring', 'lulu', 'michelle', 'stirring', 'gaining', 'scorn', '“not', 'unseen', 'elise', 'jed', 'trav', 'trough', 'samurai', 'rider', 'paddock', 'ث', 'kiki', 'enoch', 'fireman', 'ﬁnding', 'lena', 'curtain', 'convoy', 'hammond', 'shakes', 'i’m', 'twitched', 'dearest', 'katrina', 'magda', 'forrest', 'scotty', 'eh', 'supposing', 'rudder', 'jeremiah', 'flung', 'bluff', 'sly', 'crabtree', 'fighters', 'sailors', 'crashing', 'hides', 'hats', 'earrings', 'swirling', 'howling', 'album', 'frowned', 'baba', 'gretchen', 'skipped', 'wooded', 'sophia', 'loft', 'lobby', 'elvira', 'wally', 'winner', 'spaniard', 'sew', 'kate', 'tamar', 'stolen', 'din', '“she', 'nanny', 'lasted', 'groom', 'kurt', 'heaving', 'barber', 'taran', 'tap', 'letty', 'carson', 'ned', 'angus', 'perfume', 'eustace', 'picturesque', 'locked', 'judd', 'cyrus', '“you', 'rags', 'good-natured', 'whisper', 'dun', 'garth', 'villain', 'selina', 'benny', 'boiled', 'i’ve', 'sprung', 'maureen', 'sampson', '—and', 'rage', 'ting', 'amazing', 'stung', 'porridge', 'colonists', 'tore', 'i2mo', 'grandmother', 'snake', 'jonah', 'braced', 'comrades', 'boarding', 'paws', 'dragged', 'kin', 'cruiser', 'nathan', 'pigeons', 'crap', 'whistled', 'cautious', 'hopeful', 'inquired', \"bein'\", 'horrible', 'unusually', 'diane', 'floyd', 'scenery', 'naw', 'crow', 'texans', 'blackie', 'crews', 'shannon', 'pie', 'welcomed', 'dinah', 'candy', 'orphan', 'prayed', 'worries', 'ramona', 'stalls', 'circled', 'willows', 'minnie', 'pennies', 'dashing', 'enrique', 'bomb', 'enos', 'bunny', 'valentine', 'latch', 'blues', 'vasco', 'bows', 'grampa', '&quot', 'bert', 'hogan', 'lillie', 'civilized', 'mast', 'an’', 'tuck', 'warwick', 'seaweed', 'trick', 'firelight', 'punished', 'jewel', 'bog', 'dee', 'halls', 'kick', 'ted', 'rolf', 'vera', 'marched', 'roadside', 'fuss', 'indifferent', 'foxes', 'lighted', 'throng', 'seventy', 'overseer', 'rations', 'browning', 'afternoons', 'eph', 'madness', 'peddler', 'strangely', 'herr', 'beak', 'sherwood', 'torches', 'paddling', 'mules', 'yell', 'chaps', 'bedroom', 'bade', 'sparrow', 'archer', 'guarded', 'heroic', 'sip', 'screaming', 'ز', 'confident', 'garret', 'stopping', 'panting', 'slade', 'disgusted', 'bertie', 'striped', 'thoughtfully', 'russ', '١', 'mona', 'unpleasant', 'bartlett', 'tries', 'pops', 'haul', 'lingered', 'crashed', 'clad', '“of', 'schuster', 'youngster', 'hoffman', 'shone', 'defended', 'braid', 'twist', 'aleck', 'eagerness', 'bannister', 'bored', 'happier', 'disbelief', 'giles', 'stammered', 'vere', 'knights', 'horsemen', 'aw', 'broadside', 'southward', '“well', 'bike', 'drawer', 'ron', 'reb', 'sandra', 'someday', 'basketball', 'chooky', 'yankee', 'climbing', 'myles', 'spaniards', 'lain', 'scarecrow', 'mule', 'eeyore', 'christie', 'pushing', '\"it', 'slice', 'stall', 'lavender', 'player', 'sauce', 'pamela', 'locke', 'westward', 'meg', 'tumbled', 'reminded', 'thieves', 'eva', 'aloud', 'thatch', 'chores', 'cautiously', 'kath', 'marjory', 'dances', 'midday', 'panic', 'wiped', 'grandmamma', 'cries', 'muddy', 'praying', 'marnie', 'okay', 'pans', 'spy', 'chests', 'beaten', 'robber', 'hoss', 'waving', 'mara', 'hint', 'hasty', 'gonzales', 'grumbled', 'limp', 'candles', 'buzz', 'melinda', 'chuckle', 'tumbling', 'blacksmith', 'mingled', 'sunshine', 'patiently', 'ejaculated', 'fairies', 'abbie', 'dot', 'rowed', 'mammy', 'pedro', 'swam', 'farewell', '\"if', 'contented', 'she’d', 'chebron', 'ashamed', 'saloon', 'nodding', 'taller', 'surajah', 'catcher', 'pets', 'odds', 'stripes', 'trails', 'pebbles', 'shields', 'adrienne', 'tipped', 'butterflies', 'quiver', 'puck', 'hunters', 'awaited', 'pillars', 'grandma', 'doings', 'ensign', 'nostrils', 'skiff', 'perilous', 'mick', 'streaming', 'tumed', 'travelers', 'harriet', 'نا', 'boot', 'flute', 'foolish', 'tent', 'doorway', 'jamie', 'gran', 'traveled', 'kathleen', 'broom', 'shrieked', 'strangers', 'happening', 'selim', 'streak', 'tubby', 'andy', 'relax', 'sighted', 'loosened', 'puzzled', 'warden', 'scary', 'clapping', 'aggie', 'ﬂying', 'geraldine', 'assented', 'sophy', 'crossdale', 'tod', 'robbie', 'د', 'grannis', 'woke', 'diana', 'rubbing', 'missus', 'sliding', 'cabins', 'snug', 'lindsey', 'thorn', 'humour', \"'all\", 'harness', 'jokes', 'whip', 'tails', 'neighboring', 'crippled', 'oscar', 'poirot', 'nodded', 'faintly', 'packs', 'beats', 'يه', 'stables', 'licked', 'sparks', 'bhaer', 'schoolroom', 'keeny', 'trotted', 'spilled', 'waggons', 'suzy', 'camel', 'molly', 'docas', 'tomato', 'peer', 'brer', 'glared', 'wrath', 'patricia', 'terrified', 'fountain', 'escort', 'scooped', 'reginald', 'thither', 'bruno', 'nudged', 'creep', 'bard', 'bury', 'sylvia', 'paco', 'fortress', 'decorated', 'lucien', 'confederates', 'adrian', 'i_', 'cove', 'good-by', 'ducks', 'pansy', 'luggage', 'barely', 'lyle', 'lark', 'mel', 'tense', 'jars', 'we’d', 'endeavored', 'haste', 'impatient', 'father’s', 'dough', 'ﬁsh', 'trent', 'huguenots', 'staircase', '\\\\\\\\', 'hopped', 'gypsy', 'aurora', 'swim', 'rake', 'robbery', 'muslin', 'nightingale', 'abruptly', 'cissy', '“all', 'snorted', 'rafe', 'vanessa', 'vines', 'squire', 'fenton', 'leaned', 'climbed', 'cop', 'artie', 'straining', 'bessie', 'bobbie', 'beast', 'warmly', 'hunched', 'phoebe', 'questioning', 'bother', 'chat', 'thankful', 'basket', 'propped', 'pots', 'popcorn', 'gymnasium', 'spade', 'stadium', 'plunge', 'bellowed', 'gina', 'jewelry', 'chatter', 'warrior', 'chuckled', 'maris', 'appetite', 'lone', 'slab', 'carrie', 'toy', 'boers', 'dicky', 'sho', 'alaric', 'dom', 'junie', 'breathe', 'kiss', 'huh', 'nephew', 'honestly', 'bertram', 'shy', 'cody', 'tough', 'gayly', 'wrinkled', 'mound', 'cafeteria', 'dug', 'crib', 'wardrobe', 'sawyer', 'scraped', 'grim', 'bolton', 'forlorn', 'blows', 'lindy', 'wharf', 'they’d', 'respectable', 'schoolhouse', 'knowed', 'heel', 'tow', 'cora', 'prudent', 'marcy', 'swallowed', 'countryside', 'ruined', 'bjorn', 'roland', 'wondered', 'nannie', 'floated', 'rudi', 'stoop', 'canteen', 'judson', 'grown-up', 'pitched', 'alfie', '“we’re', 'atop', 'abbot', 'volunteered', 'grizzly', 'godmother', 'flocks', 'leopard', '\"do', 'darn', 'hymn', 'flickering', 'giggled', 'nina', 'fiercely', 'instinctively', 'pills', 'shivered', 'derek', 'thicket', 'bonnie', 'slapped', 'buggy', 'lined', 'murtagh', 'paula', 'gaily', 'pathetic', 'gangway', 'puppy', 'fugitive', 'lid', 'sob', 'galleys', 'rifles', 'impatiently', 'speck', 'eloise', '“do', 'grabbed', 'monsters', 'sofa', 'upright', 'wishing', 'briggs', 'spied', 'dolls', 'smiling', 'barked', 'tavern', 'skated', 'subdued', 'ghostly', 'cammie', 'invisible', 'bake', 'heap', 'pablo', 'ﬂy', 'pancakes', 'dared', 'cortez', 'gaze', 'scientist', '“it’s', 'ain’t', \"ain'\", 'tortillas', 'sniffed', 'fearful', 'mares', 'bonny', 'boyish', 'starving', 'hockey', 'air-ship', 'gotten', 'mynheer', 'folds', 'folding', 'davey', 'overwhelmed', 'half-way', 'ranofer', 'bout', 'bonnet', 'daylight', 'hum', 'realised', 'clutching', 'mart', 'deserted', 'shirley', 'admiring', 'cardboard', 'quaker', 'tunic', 'fiery', 'auditorium', 'foal', 'politely', 'في', 'bella', 'arena', 'quay', 'mermaid', 'bananas', 'bianca', 'reckoned', 'assailants', 'noah', 'wren', 'rosemary', 'cecil', 'bruised', 'sid', 'jud', 'stiffened', 'sobbing', 'hartley', 'evie', 'joyfully', \"d'artagnan\", 'dislike', 'jerry', 'samantha', 'backwards', 'molasses', 'bicycle', 'peterkin', \"'long\", 'nail', 'caves', 'lorraine', 'barred', 'unwilling', 'aeroplane', 'mack', 'janet', 'saunders', 'canoes', 'joanna', 'ladder', 'gaston', 'wanda', 'turf', 'wagons', 'nonsense', \"o'connor\", 'spun', '“can', 'possum', 'colin', 'howled', 'briskly', 'lynx', 'prudy', 'bunkers', 'rosy', 'laundry', 'attic', 'woody', 'wrecked', 'swatty', 'ridges', 'sticking', 'dived', 'ﬁnally', 'sorrel', 'dame', 'stuffed', 'jeremy', 'baked', 'pavilion', 'grin', 'bathing', 'chimi', 'hurts', 'series.', 'lois', 'knitting', 'satin', 'dim', 'monkeys', 'violently', 'startled', 'glacier', 'ornaments', 'sonny', 'twinkling', 'catching', 'o.k.', 'tenderly', 'benton', 'astonishing', 'rook', 'claus', 'dreaming', 'school-house', 'actress', 'eliza', 'ping', 'stir', 'darted', 'trevor', 'harley', 'zack', 'temptation', 'lottie', 'countenance', 'titus', 'doris', 'parade', 'ringing', 'gloucester', 'football', 'megan', 'perk', 'polite', 'wolves', 'underbrush', 'biggest', '\"what', 'dwayne', 'pillows', 'tearing', 'babies', 'collar', 'cloak', 'plateau', 'dinghy', 'flatboat', 'linda', 'worried', 'pounded', 'wrist', 'hildegarde', 'tournament', 'stuck', 'stumbled', 'squirrels', 'fog', 'sounding', 'worm', 'brains', 'stallion', 'constance', 'smack', 'vine', \"runnin'\", 'texan', 'ن', 'haze', 'thar', 'slippery', 'curtains', 'photographer', 'myrtle', 'treachery', 'ache', 'pickle', 'fashionable', 'dost', 'underwear', 'shack', 'andrea', 'goats', 'rita', 'cliff', 'johnny', 'hermit', 'tommy', 'hers', 'borrow', 'disagreeable', 'gum', 'hobbs', 'leagues', 'decks', 'sturdy', 'carleton', 'drowning', 'tiller', 'solitary', 'tackle', 'traveller', 'bugle', 'cabbage', '“that’s', 'blowing', 'tucked', 'indignation', 'sober', 'slammed', 'luck', 'ﬁght', 'mamma', \"'se\", 'libby', 'coral', 'winona', 'jem', \"'e\", 'mend', 'janie', 'coldly', 'freed', 'faltered', 'alligator', 'timidly', 'bye', 'treasure', 'bullets', 'waist', 'marching', 'hither', '\"because', 'apache', 'roast', 'cub', 'ya', 'dainty', 'winked', 'rally', 'hem', 'sandwich', \"won't\", 'wyatt', 'ace', 'lets', 'flushed', 'horns', 'surrendered', 'gateway', 'locks', 'bab', 'desolate', 'admired', 'fanny', 'abner', '.`', 'brenda', 'ﬁngers', 'pyramid', 'uv', 'grasp', 'kisses', 'breasts', 'chauffeur', 'scalp', 'madge', 'rosie', 'jule', 'musketry', 'aught', \"o'brien\", 'furiously', 'spears', 'emptied', 'vince', 'mamsie', 'drifted', 'whoever', 'dreamed', 'carelessly', 'anxiously', 'jock', '.‘', 'sighed', 'drowned', 'beheld', 'yit', 'embarrassment', 'cart', 'glenn', 'pretended', 'craven', 'gasping', 'valerie', 'raining', 'lizzie', 'aloft', 'whistling', 'patty', 'curiously', 'ribbon', 'chasing', 'taffy', 'fright', 'ant', 'hid', 'jaguar', 'weaving', 'fritz', 'tha', 'berries', 'todd', 'addie', 'walt', 'pounding', 'pepe', 'flats', 'creeping', 'full-page', 'cookies', 'tourists', 'awe', 'jinks', 'yez', 'fireworks', 'drawers', 'cruelty', 'traders', 'whispers', 'مع', 'matron', 'strand', 'dryly', 'auntie', 'frowning', 'nick', 'clarissa', 'pepper', 'smash', 'jimmieboy', 'sweating', 'christine', 'clever', 'lonesome', 'aint', 'tutor', 'bor', 'skunk', 'git', 'elena', 'shit', 'felipe', 'clenched', 'dragging', 'captors', 'freddie', 'worrying', 'nicely', 'i‘', 'saul', 'embroidered', 'rocked', \"hain't\", 'stalks', 'parlor', 'nelly', 'circus', 'paddles', 'felix', 'draped', 'abe', 'alison', 'picket', 'forehead', 'trailer', 'raven', 'chancy', 'marian', 'angrily', 'quarry', 'slim', 'randy', 'lesley', 'whined', 'marvelous', 'hab', 'lily', 'holler', 'marta', 'baskets', 'gasp', 'hitler', 'harp', 'up-stairs', 'struggled', 'pickup', 'overcoat', 'chill', 'staggered', \"'_\", 'bundles', 'amazement', 'friar', 'rocking', 'fraulein', 'gwen', 'hilda', 'stepfather', 'edie', 'meadow', 'gulped', 'yo', 'shudder', 'ankle', 'crocodile', 'prophecy', 'shattered', 'sweater', 'squeeze', 'pal', 'belongings', 'eighty', 'gig', 'brow', 'boyfriend', 'amused', 'embers', 'wid', 'papa', 'sadly', 'stack', 'mama', 'grip', 'maman', 'dervishes', 'diver', 'wow', 'cock', 'sacks', 'benson', 'tack', 'scrambled', 'wallet', 'lodging', 'timmy', 'spoil', 'allah', '“ah', 'sneakers', 'wheelchair', 'bobbed', 'gavin', '_‘', 'thoughtful', 'gingerbread', 'naughty', 'drover', 'damp', 'squad', 'helicopter', 'cowboy', 'encyclopedia', 'napkin', 'sim', 'launch', 'captive', 'waded', 'sternly', 'sniff', 'stationed', 'jennie', 'costumes', 'barracks', 'rooster', 'kyle', 'threatening', 'kel', \"'mon\", 'classmates', '\"\"', 'trappers', 'bedside', 'aching', 'fights', 'mittens', 'remind', 'nope', 'shotgun', 'bud', 'farmhouse', 'kenny', 'awoke', 'grandson', 'ivan', 'amos', 'knoll', 'bait', 'benches', 'braves', 'viking', 'amazed', 'cushion', 'dizzy', 'flew', 'clasped', 'cecilia', 'practicing', 'delicious', 'monster', 'puppies', 'nests', 'armour', 'squinted', 'mallory', 'sal', \"q'\", '“and', 'amelia', 'dive', 'griselda', 'sweetly', 'pero', 'wander', 'bim', 'desmond', 'breeches', 'hillside', 'shifted', 'tub', 'cottages', 'arrows', 'bundle', 'tilly', 'rattlesnake', 'encamped', 'nigh', 'cheering', 'crawled', 'peg', 'waked', 'leigh', 'bestowed', 'eyebrow', 'drake', 'picnic', 'gramp', 'tam', 'fry', 'niggers', 'ty', 'swayed', 'papi', 'courtyard', 'descended', 'scratching', 'deborah', 'pillow', 'kettle', 'whirling', 'blown', 'otter', 'codling', 'boulder', 'scraps', 'rattling', 'attendant', 'tante', 'talbot', 'hospitality', 'nails', 'heroine', 'cooked', 'anton', 'innkeeper', 'charley', 'banker', 'raoul', 'frightened', 'reminds', 'cunning', 'sleeve', 'demons', 'lenora', 'rex', 'amy', 'juniper', 'commotion', 'lance', 'neil', 'ashore', 'corydon', 'furious', 'niece', 'isabella', 'dragon', 'wandered', 'becky', 'villa', 'rhoda', 'soﬁ', 'hob', 'smashed', 'tanya', 'poker', 'tories', 'lydia', 'suspiciously', 'skye', 'rains', 'knuckles', 'patriot', 'stooped', 'lashed', 'whales', 'strawberry', 'sling', 'dolph', 'freda', 'sikhs', 'lester', 'there’s', 'tramp', 'dove', '“if', 'can’t', 'natalia', 'carrots', 'indifference', 'crawl', 'scots', 'dormitory', 'reade', 'toast', 'moors', \"'way\", 'knives', 'swelled', 'ling', 'celeste', '’em', 'elliot', ':_', 'weston', 'frogs', 'ghosts', 'donkey', 'wig', 'saluted', \"'round\", 'uncles', 'echoed', 'bracken', 'begged', 'ferns', 'cecily', 'juanita', 'dusk', 'strained', 'consented', 'vow', 'nana', 'couch', 'curiosity', 'johnnie', 'groceries', 'graduation', 'comic', 'maya', 'banging', 'seeming', 'narcissa', 'hurting', 'dime', 'blizzard', 'grocery', 'softly', 'howl', 'lighthouse', 'flossie', 'garments', 'hetty', 'carnival', 'froggy', 'coward', '“sure', \"b'ar\", 'buster', 'ariston', 'ostrich', 'shilling', 'marcel', 'doodles', 'strove', 'boatman', 'twel', 'ants', 'maud', 'boom', 'tightened', 'wildly', 'stare', 'hissed', 'henty', 'grapes', 'eunice', 'trino', 'weeping', 'peas', 'grandpapa', 'brushed', 'pulling', 'phyllis', 'moat', 'wiggins', 'nicky', 'twisting', 'eduardo', 'ruddy', 'ginny', 'bathroom', 'darkened', 'weakly', 'trench', 'gonna', 'terrifying', 'yelling', '“but', 'suitcase', 'jacqueline', 'roared', 'sharley', 'hurry', 'smell', 'socks', 'chunk', 'fearless', 'montezuma', 'twigs', \"'you\", \"w'en\", 'shivering', 'smoothly', 'mumbled', 'insult', 'nance', 'lilly', 'volley', 'grease', \"'of\", 'tara', 'pleasing', 'witnessed', 'bitch', 'coon', 'sean', 'astonished', 'disappear', 'peanut', 'roberta', 'steve', 'worms', 'smoothed', 'clergyman', 'wheelbarrow', 'exchanged', 'plumb', 'jade', 'cortes', 'tepee', 'ambush', 'haunted', 'marc', 'mazzo', 'p”', 'outstretched', 'chewed', 'explaining', 'trusted', 'remembrance', 'puss', 'benito', 'heck', '‚д', 'ignoring', 'maisie', 'drinks', '\"you', 'youthful', 'marguerite', 'monks', 'lace', 'swan', 'barlow', 'piglet', 'tray', 'stroking', 'laurie', 'weary', 'bells', 'stealing', 'neighbours', 'almanzo', 'mis', 'sheer', 'elk', 'merry', 'jerk', 'dalton', 'scolded', 'mose', 'shriek', 'perch', 'heroes', 'brent', '“one', 'spence', 'junk', 'sot', 'dante', 'garnet', 'vivian', 'birch', 'dropping', 'shout', 'alger', 'stripped', 'ﬁfteen', 'sore', 'calves', 'sahib', 'tippoo', 'baseball', 'hates', 'zoo', 'plucked', 'jumping', 'trader', 'eileen', 'لس', 'dozens', 'annette', 'singer', 'trooper', 'rescued', 'patted', 'ridiculous', 'tapping', 'freak', 'porch', 'chimney', 'twas', 'enjoying', 'grub', 'hok', 'millicent', 'owls', 'moonlight', 'tessa', 'pretend', 'braids', 'claw', 'prescott', 'houseboat', 'cadet', 'danes', 'jenny', 'throws', 'violin', 'cathy', 'thames', 'winters', 'witches', 'agnes', 'hitched', 'winifred', 'يا', 'decent', 'begging', 'blushing', 'wrapped', '“i’d', 'heed', 'lanterns', 'mink', 'mornings', 'noises', 'flipped', 'gestures', 'apprentice', 'pad', 'tang', 'overtake', 'butcher', 'rabbi', 'summoned', 'distracted', 'flags', 'frankie', 'ignore', 'stares', 'claude', 'weird', 'هو', 'carton', 'twins', 'swollen', 'piper', 'sill', 'idiot', 'you’d', 'sadie', 'dwelt', 'stan', 'savages', 'foul', 'armor', 'julian', 'he’s', 'mister', 'shots', 'esther', 'forcing', 'laddie', 'guts', 'awakened', 'noses', 'donna', 'pail', 'hurrah', 'riddle', 'nigel', 'headmaster', 'mats', 'skinny', 'guitar', 'blackness', 'incredible', 'opponent', 'muffin', 'steered', 'bates', 'barren', 'giorgio', 'surroundings', 'lifting', 'matches', 'uniforms', 'crowds', '_`', 'mane', 'arguing', 'sneak', 'boer', 'dome', 'luigi', 'jacques', 'absurd', 'pluto', 'travilla', 'kit', 'astonishment', 'ryder', 'wand', 'shouted', 'coyotes', 'amanda', 'patches', 'mattie', 'solemnly', 'mishka', 'jeans', 'dragons', 'amusing', 'sleigh', 'inventor', 'discouraged', 'pockets', 'guys', 'maiden', '“there', 'stanton', 'teasing', 'vicious', 'i?', 'noel', 'shep', 'yuh', 'blunt', 'davy', 'jacinto', 'scarf', 'brewster', 'whale', 'pleaded', 'christina', 'seize', 'swiftly', '“tell', 'clambered', 'milo', 'turks', 'elf', 'astern', 'dagger', 'ugly', 'rang', 'cushions', 'sparkling', 'ditch', 'caravan', \"can't\", 'tia', 'struggling', 'forgot', 'feathers', 'eyebrows', 'curly', 'enchanted', 'plaza', 'bats', 'miriam', 'lacey', 'roberto', 'toss', \"'in\", 'attire', 'strolled', 'skins', 'grunt', 'breathless', 'spike', '\"he', 'steamers', 'fluttering', 'rowing', 'plunder', 'slept', 'attacking', 'aft', 'dumb', 'housekeeper', 'hare', 'fringe', 'toes', 'angeline', 'cough', 'alanna', 'shadowy', 'clatter', 'herbs', 'cissie', 'heaps', 'elissa', 'havisham', 'damned', 'spectacles', 'brace', 'honored', 'soccer', 'pork', 'dexter', 'miner', 'rebels', 'demon', 'canvas', 'gale', 'delighted', 'squirrel', 'wearily', 'harlan', 'irene', 'denise', 'aunty', 'ludell', 'bony', 'travelled', 'apron', 'mme', 'mario', 'rosalind', 'riders', 'ethel', 'dirck', 'daresay', 'snarled', 'chet', 'beamed', 'forts', 'sour', 'bewildered', 'seizing', 'jam', 'willy', 'he’ll', 'sink', 'merle', 'halted', 'hoofs', 'commented', 'queer', 'poking', 'embraced', 'corral', 'wondering', '“yes', 'ratha', 'breathlessly', 'uttered', 'birthday', '“nothing', 'gulliver', 'balls', 'hooks', 'joshua', 'weren’t', 'vexed', 'goodbye', 'cavern', 'whisky', 'pizza', 'dorcas', 'handful', 'headlong', 'handkerchief', 'awaiting', 'ronnie', 'jammed', 'slick', '“you’re', 'cages', 'cynthia', 'crockett', 'lou', 'puff', 'syrup', 'treasures', 'alert', \"'r\", 'owl', 'tangled', 'stirred', 'heron', 'cara', 'bowls', 'fangs', 'exclamation', 'policeman', 'entertaining', 'bobbsey', 'trudged', 'sprawled', 'moose', 'learnt', 'heb', 'carcass', 'easter', 'lonely', \"'n\", 'trousers', 'coachman', 'carved', 'springing', 'dessert', 'abby', 'murdered', 'minded', 'oars', 'magical', 'sullen', 'stony', 'pennington', 'endure', 'dawson', 'einstein', 'judith', 'prom', 'norma', 'pouring', 'gym', 'fragrance', 'josiah', 'linus', 'danny', 'chico', \"shan't\", 'eyed', '“how', 'ﬁt', 'painfully', 'mother’s', 'athletic', 'fetched', 'susy', 'triumphant', 'tbey', 'clinging', 'devon', 'eased', 'dylan', 'lass', 'jus', 'mamie', 'resembled', 'wee', 'paddle', 'tony', 'blazed', 'rangers', 'huddled', 'rumors', 'shrine', 'fastened', 'yvette', '“we', 'recollection', 'procession', 'gleamed', 'quarrel', 'rover', 'toilet', 'pantry', 'brute', 'collapsed', 'arabella', 'rum', 'bully', 'eaten', 'troopers', 'sheep.', 'slipping', 'melancholy', 'adair', 'glove', 'spared', 'francie', 'dere', 'lend', 'windy', 'cass', 'shanty', 'sabbath', 'misha', 'complain', 'peck', 'greg', 'debby', 'mock', 'mum', 'tossed', 'ﬂoor', 'pitiful', 'tents', 'raccoon', 'reggie', 'pulls', 'hannibal', 'shane', 'cougar', 'smiled', 'scratched', 'grimpow', 'pups', 'galloping', 'freddy', 'watches', '“mr.', 'sheik', 'seth', 'flip', 'horatio', 'ef', 'basil', 'yeah', 'sticks', 'kneeling', 'cubs', 'trudy', 'sobbed', 'rehearsal', 'stumbling', 'great-aunt', 'jon', 'leah', 'hangar', 'hugo', 'stacey', 'yacht', 'muskets', 'cats', 'freshman', 'richie', 'يي', 'laden', 'subway', 'kaze', 'grasping', 'raced', 'rascal', 'huts', 'dunes', 'onward', 'glancing', 'wont', 'pirate', 'calico', 'spine', 'dirty', 'strawberries', 'annabelle', \"talkin'\", 'mimi', 'connor', 'forge', 'calvin', 'grunted', \"'most\", 'upside', 'rafael', 'old-fashioned', 'youngsters', 'counselor', 'litde', 'susanna', 'crawling', 'tish', 'grab', \"o'grady\", 'shower', 'sits', 'melanie', 'zach', 'cafe', 'trailed', 'duchess', 'meredith', 'chestnut', 'trunks', 'hose', 'compliment', 'crouching', 'shawn', 'damon', 'salvador', 'ر', 'clare', 'tumble', 'horror', 'battered', 'gracious', 'sheila', '’m', 'plague', 'jaw', \"doin'\", 'conquer', 'chip', 'desperate', 'ivar', 'mommy', '“then', 'bennie', '!&quot', 'porcupine', 'dimly', 'bat', 'cherokee', 'headache', 'witch', 'motorcycle', 'dorothea', 'licking', 'cornelius', 'ء', 'silently', 'sandwiches', 'elephants', 'sung', 'roaring', 'frightful', 'ofﬁcer', 'hurrying', 'dynamite', 'steal', 'tunnels', 'cheerfully', 'arched', 'tortoise', 'butch', 'empress', 'scored', 'paced', 'silvery', 'fans', 'batter', 'meadows', 'fellers', 'endless', 'babe', 'anguish', 'robbed', 'weasel', 'simba', 'manuel', '“yeah', 'snowy', 'eagerly', 'ached', 'gervaise', 'giggling', 'dumped', 'grasped', 'realizing', 'fay', 'kat', \"'tis\", 'beaming', 'chew', 'halt', 'swing', 'pup', 'badger', 'downstairs', 'sack', 'thimble', 'bleachers', 'dungeon', 'crusoe', 'dinky', 'misfortune', 'caring', \"gittin'\", 'fenn', 'blushed', 'tyler', 'whoa', 'choking', 'captives', 'steer', 'exploring', 'mate', 'errands', 'slumped', 'jimmie', 'mourning', 'timbers', 'suicide', 'bryce', 'bungalow', 'spotted', 'whipped', 'bing', 'elbow', 'upstairs', 'softened', 'pete', 'woven', 'hiding', 'halloween', 'pinky', '“good', 'homesick', 'busily', 'marigold', 'blossom', 'thrill', 'carlos', 'harding', 'jake', '“are', 'pines', 'flock', 'heels', 'birdie', 'magician', 'handwriting', 'defenders', 'brig', 'traitor', 'revolver', 'mortal', 'derrick', 'groves', 'prey', 'montfort', 'dancer', 'helm', 'egbert', 'stunned', 'bald', 'jessie', 'conrad', 'fascinating', 'dentist', 'bun', 'homework', 'skating', 'stacked', 'boris', 'waitress', 'lemon', 'marina', 'sanders', 'brisk', 'wilt', 'nicer', 'praised', 'circling', 'worlds', 'hoarse', 'anyway', 'paces', 'mcquade', 'doubtfully', 'yore', 'crash', '“thank', 'heather', 'lofty', 'widened', 'linden', 'manolo', 'clan', 'heaved', 'rushing', '“say', 'penny', 'compass', 'dismay', 'ransom', 'abel', 'dearly', 'sammy', 'bin', 'dugout', 'deerfoot', 'fences', 'nino', 'musician', 'elm', 'nets', 'atter', 'bernie', 'tops', 'impatience', 'poke', 'davie', 'chop', 'click', 'knob', 'vvv', 'minstrel', 'drunken', 'fiddle', 'dew', 'wasted', 'hal', 'peggy', 'paddy', 'i’ll', 'chips', 'ez', 'garage', 'hip', 'blond', 'behave', 'trembling', 'peril', 'fists', 'objected', 'jealous', 'oswald', 'ulysses', 'lisle', 'bunk', 'well-nigh', 'manning', 'evelyn', 'terrill', 'claws', 'glances', 'nellie', 'admire', 'karen', 'panted', 'pharaoh', 'deliberately', 'caroline', 'spies', 'glaring', 'tangle', 'luka', 'jakkin', 'beaver', 'eldest', 'caleb', 'docks', 'missed', 'punched', 'عم', 'hank', 'heber', 'crumbs', 'boone', 'monica', 'racing', 'fergus', 'runner', 'reeds', 'cheyenne', 'commandant', 'cruz', 'tiger', 'torch', 'lodges', 'carlo', 'howie', 'eleanor', 'snapping', 'towel', 'upset', 'gabe', 'tina', 'flee', 'rowboat', 'hallway', 'blouse', 'shan', 'milly', '“come', 'mounting', 'necklace', 'wade', 'galloped', 'openly', 'planks', 'silas', 'siebren', 'lettice', 'smoky', 'vanished', 'minerva', 'watchman', 'ﬁghting', 'shelley', 'warmth', 'suspicious', 'hesitate', 'madeline', 'pirates', 'avery', '“they', 'castles', 'repeating', 'sobs', 'hermon', 'thump', 'frail', 'meta', '“to', 'fragrant', 'peered', 'obeyed', 'minna', 'comical', 'bayonet', 'yourselves', 'agin', 'flank', 'serge', 'alma', 'firewood', 'warriors', 'tory', 'skate', 'exile', 'saddle', 'gloves', 'burt', 'aren’t', 'coals', 'sewing', 'calmly', '“have', 'rudy', 'trenches', 'fro', 'vengeance', 'cadets', 'saddles', 'pooh', 'ze', 'bingo', 'plum', 'bevis', 'هلا', 'to-night', 'stately', 'crooked', 'seaman', 'percy', 'bowl', 'locate', 'rugged', 'formidable', 'halfway', 'clifford', 'imagining', 'distressed', 'jelly', 'robbers', 'rushed', 'joel', 'yonder', 'blush', 'dunno', 'tires', 'gus', 'swore', 'stakes', 'disappointment', 'emerald', 'lame', 'lizard', 'suspicions', 'bowie', 'peering', 'downtown', 'battles', 'invented', 'j.j.', '\\\\_', 'nita', 'jeffrey', 'nadia', 'hopefully', 'chorus', 'herbie', 'youngest', 'anchored', 'broth', 'mildred', 'awhile', 'ﬁlled', 'fairy', 'spoon', 'willa', 'truman', 'gleaming', 'chuto', 'hollis', 'sliver', 'mace', 'ginnie', 'bart', 'scarlet', 'strode', 'champagne', 'spinning', 'actor', 'amuba', 'pumpkin', 'phonny', 'monte', 'rufus', 'elsie', 'paulette', 'youths', 'drawing-room', 'curb', 'ءه', 'post-office', 'froze', 'piazza', 'disgusting', 'augie', 'scream', 'larry', 'chateau', 'midshipman', 'lad', 'wipe', 'cocoa', 'melindy', 'crust', 'tanner', 'minchin', 'sophie', 'hotly', 'stole', 'homeward', 'mexicans', 'swung', 'o’clock', 'chalk', '“that', 'commodore', 'glistening', 'childish', 'persisted', 'paused', 'ribs', 'renee', 'glimpse', 'gunpowder', 'neighbor', 'rene', 'spurs', 'chant', 'won’t', 'coughing', 'delacorte', 'asleep', 'grimly', 'elaine', 'cared', 'petey', 'bridger', 'securely', 'boil', 'frankly', 'crisp', 'winnie', 'wears', 'petrova', 'th’', 'funny', 'airship', '“see', 'pictured', 'maura', 'fust', 'toys', 'sleep.', 'buck', 'vest', 'greet', 'bounced', 'pawnee', 'olivia', 'wanna', 'stray', '“wait', 'harmless', 'silly', 'angie', 'angela', 'skeleton', 'moe', 'اه', 'gunner', 'uncomfortable', 'dirt', \"'cause\", 'skirts', 'packet', 'picks', 'rhythm', 'hissing', 'jill', 'marilyn', 'phebe', 'oysters', 'intentions', 'poole', 'parted', 'motioned', 'dickon', 'hostess', 'hilary', 'len', 'ashes', 'hello', 'messengers', 'golf', 'carla', 'beechnut', 'blamed', 'dashed', 'jip', 'let’s', 'gull', 'sis', 'tidy', 'foam', 'fetch', 'apartments', 'gravely', 'salad', 'shouts', 'peewee', 'merlin', 'bug', 'godfrey', 'chloe', 'iroquois', 'hurriedly', 'brady', 'lina', 'finishing', 'cheerful', 'mosquitoes', 'cocked', 'luxury', 'josephine', 'nora', 'hector', 'rowan', 'ascent', 'charlie', 'rushes', 'carmen', 'airplane', 'swell', 'muzzle', 'hips', 'applause', 'bandage', 'sled', 'melissa', 'ivory', 'dusky', 'marko', 'lantern', 'wint', 'sigurd', 'chairs', 'stride', 'nicolas', 'parapet', 'barker', 'whistle', 'browne', 'dave', 'echo', 'chinaman', 'cares', 'levi', '“okay', 'morrow', '\"l', 'gits', 'callahan', 'melted', 'eagles', 'glade', 'willingly', 'excursion', 'elbows', 'patriots', \"d'you\", 'leash', 'trapped', 'camp-fire', 'steamboat', 'jump', 'blew', 'posted', 'dat', 'wisely', 'signor', 'sentry', 'hound', 'mug', 'moccasins', 'casually', 'wan', 'revere', 'ruby', 'regiments', 'lew', 'glowing', 'tonight', 'chum', 'whiskers', \"'roun'\", 'latimer', 'towels', 'campfire', 'barty', 'gibraltar', 'gloria', 'alec', 'ian', 'amidst', '~~', 'stamped', 'jes', 'franz', 'buttons', 'float', 'nothin', 'surveyed', \"'fore\", 'coop', 'scared', 'bearded', 'nell', 'chuck', 'wink', 'cops', 'paw', 'careless', 'convent', 'teddy', 'harder', 'aye', 'cory', 'burglar', 'rory', 'joking', 'didn', '?&quot', 'strings', 'ashley', 'steak', 'detachment', 'turtle', 'brushing', 'strap', 'peters', 'rectus', 'cracked', 'ب', 'bridle', 'pear', 'marcia', 'reluctant', 'waterfall', 'galley', 'ashe', 'necks', 'toady', 'carts', 'flannel', 'simms', 'kay', 'motel', 'gloom', 'giggle', 'holly', 'flashing', 'railing', 'joyful', 'exhaustion', 'dismounted', 'barnaby', 'han', 'escapes', 'gazing', 'confessed', 'oranges', 'nigger', 'alvin', 'searched', 'carol', 'squaw', 'musket', 'oaks', 'stub', 'amber', 'crate', 'scissors', 'moustache', 'pearls', 'annika', 'cortland', 'dodger', 'sprang', 'waddles', 'rub', 'gee', 'mountainside', 'trimmed', 'figured', 'magnus', 'rainy', 'phillip', 'leroy', 'gully', 'warn', 'pinocchio', 'tame', 'bulls', 'lem', 'stoutly', 'imaginary', 'uneasily', 'jumps', 'biscuits', 'coats', 'barge', 'katie', 'plump', 'stockings', 'piercing', 'growl', 'lookout', 'policemen', 'naught', 'excitedly', 'dancers', 'scrub', 'plupy', 'sparkled', 'churchyard', 'heartily', \"'fo\", 'steering', 'jug', 'poop', 'becca', 'lionel', 'jacket', 'pudding', 'carriages', 'grown-ups', 'miracle', 'ivy', 'bolted', 'hens', 'indignantly', 'polly', 'wirrun', 'candle', 'handy', 'wrap', 'restless', 'freshmen', 'jules', 'girlfriend', 'tugged', 'rein', 'veil', 'beardsley', 'yon', 'stiffly', 'rescue', '“no', 'half-past', 'mole', 'josefina', 'cupboard', 'ventured', 'scrape', 'archie', 'shawanoe', 'sleeves', 'chan', 'gang', 'splash', 'envy', 'manley', 'binoculars', 'refrigerator', 'bimeby', 'movies', 'ebony', '“very', 'cuckoo', 'عل', \"'11\", 'corpse', 'sunset', 'jessamine', 'schooner', 'disappearing', 'uh', 'thirsty', 'ken', 'gipsy', 'scornfully', 'wailed', 'pinned', 'o’', '._', 'hastily', 'mare', 'reckless', 'wits', '—he', 'trailing', 'stump', 'sometime', 'hev', 'chin', 'fascinated', 'thud', 'buckskin', 'brows', 'wal', 'mates', 'ike', 'starve', 'kendall', 'pretending', 'bobby', \"“you're\", 'growled', 'fighter', 'corridor', 'sharon', 'أ', 'ranger', 'slid', 'nobles', 'lousy', 'grinned', 'sitting-room', 'petra', 'susie', 'dora', 'balloons', 'knapsack', 'kalulu', 'anyhow', 'striving', 'disguise', 'miserable', 'cullen', 'multitude', 'grassy', 'conquered', 'great-grandfather', 'pierced', 'dirk', 'fake', 'sirius', 'drunk', 'bunch', 'gertrude', '٦', 'benjie', 'barbie', 'hester', 'chris', 'clown', 'maddy', 'savagely', 'injuns', 'overalls', 'stared', 'glowed', '“you’ll', 'gigantic', 'gabriel', 'wizard', 'tally', 'edna', 'sleepy', 'cairo', 'mandy', 'heathen', 'ranch', 'cousins', 'baggage', 'squadron', 'knocking', 'notebook', 'withdrew', 'wilkins', '‘‘', 'curse', 'greeting', 'mite', 'tomas', 'مه', 'beth', 'crab', 'flanks', \"'but\", 'wretched', 'virgil', 'frock', 'deserve', 'serpent', 'cigarettes', 'brinker', 'emily', 'look-out', 'flashlight', 'forgetting', 'dido', 'bloody', 'ursula', 'we’re', 'bowing', 'ducked', 'theseus', 'rancho', 'clicked', 'ъ', 'opal', 'malcolm', 'satisﬁed', 'gestured', 'faded', 'dazed', 'wrestling', '“please', 'stained', 'ambulance', 'mistakes', 'hearth', 'ira', 'blankets', 'fem', 'axe', 'hurried', 'spoons', 'snapped', 'thad', 'violets', 'crazy', 'preacher', 'embrace', 'jesse', 'offended', 'twinkle', 'radiant', 'santiago', 'hop', 'miguel', \"comin'\", 'undergrowth', 'corey', 'fum', 'throwing', 'kittens', '\"is', '“thanks', 'bullet', 'connie', 'blossoms', 'esteban', 'mesa', 'thickly', 'escaping', 'milking', '.~', 'sniffing', 'spectacle', 'brighter', \"tryin'\", \"n'\", 'camped', 'abuelita', 'enid', 'hastened', 'whiskey', 'staring', 'persuaded', 'nikki', 'ginger', 'tracy', 'harmon', 'jason', 'gram', 'stops', 'seikei', 'mohawk', 'fitz', 'squatted', 'masts', '“there’s', 'digging', 'gasped', \"thinkin'\", 'remembering', 'butt', 'midge', 'isobel', 'marjorie', 'flicked', 'puffed', 'jackie', 'frenchman', 'cindy', 'marmaduke', 'swords', 'shabby', 'brightened', 'planter', 'mavis', 'makeup', 'gardener', 'shiver', 'unexpectedly', 'doubled', 'ц', 'laughs', 'blazing', 'omar', 'banged', 'gotta', 'wealthy', 'dory', 'gideon', 'wong', 'garcia', 'herb', 'blanca', 'leaning', 'boss', 'quentin', 'parlour', 'noisy', 'yorke', 'wesley', 'stool', 'tease', 'edged', 'summers', 'ho!', 'sezee', 'stepmother', 'shrank', 'gloomy', 'twisted', 'flames', 'cam', 'quinn', 'liar', '“my', 'umbrella', 'grabs', 'triumphantly', 'button', 'killer', 'beggar', 'pomp', 'skeeter', \"o'malley\", 'whirled', 'tattered', 't-shirt', 'quaint', 'omri', 'curled', 'mustache', 'kip', 'rubbish', 'feather', 'coughed', 'beetle', 'randall', 'herds', ',&quot', 'plunged', 'salute', 'erica', 'noddy', 'helpless', 'breathed', 'lump', 'queenie', 'loudly', 'besieged', 'torture', 'jerked', 'tucker', 'sweetness', 'parchment', 'good-night', 'knocked', 'jaws', 'blaze', 'gruff', 'sunk', 'saxon', 'stevie', 'marash', 'rubbed', 'reindeer', 'bust', 'lied', 'salietti', 'cheeks', 'hatred', 'sweetest', 'crabs', '—she', 'twilight', 'soberly', 'spider', '“now', 'moira', 'apology', 'dadi', 'pippi', 'heavens', 'muffled', 'longed', 'glided', 'retreated', 'darker', 'turkeys', 'soaked', 'they’ll', 'brownie', \"goin'\", 'barking', 'betrayed', 'misty', 'countess', 'maude', 'tis', 'lick', 'foe', 'grimes', 'banquet', 'thanked', 'marcus', 'danish', 'kirby', 'wigwam', 'alley', 'horseback', 'sah', 'innocence', 'rotten', 'bracelet', 'deirdre', 'lorenzo', 'mob', 'shady', 'jethro', 'eddie', 'celebration', 'ته', 'accent', 'sideways', 'duel', 'highness', 'feeble', 'peanuts', 'safer', 'staying', 'mebbe', 'we’ll', 'comforted', 'sunlight', 'mischief', 'kathie', 'retreating', 'convince', 'coffin', 'willow', 'sally', 'inning', 'wonders', 'pies', 'scar', 'you’ll', 'ascended', 'stubbs', 'worry', 'lightly', 'bran', 'rupert', 'shake', 'abigail', 'lads', 'fantastic', 'mess', 'hunger', 'elinor', 'pam', 'enie', 'sloop', 'pitcher', 'beard', 'gem', 'grape', 'likes', 'massa', 'yelled', 'orderly', 'sefior', 'sara', 'rattled', 'geese', 'humor', 'snakes', 'instinct', 'carey', 'lyra', 'drummer', 'shaking', 'paulo', 'posters', 'embarrassed', 'ﬁfty', 'bayou', 'chocolate', 'swede', 'backed', 'trumpet', 'growling', 'norah', 'fleming', '&quot;', 'keeper', 'monk', 'roddy', 'lazy', 'asleep.', 'awful', 'brett', 'amusement', \"ain't\", 'sunny', 'olivine', 'rejoined', 'movie', 'chauntecleer', 'vv', 'freckles', 'regina', 'vaguely', 'joey', 'jennifer', 'bucket', 'mop', 'archy', 'tonio', 'stover', 'ely', 'bryan', 'ale', 'celia', 'crush', 'muriel', 'sticky', 'dreadful', 'beany', 'hugged', 'luz', 'mercedes', 'pins', 'helplessly', 'blinking', 'pinch', '“is', \"'low\", '“i’ll', 'tessie', 'forbes', 'muttering', 'beverly', '“i’m', \"dan'l\", 'heah', 'jimmy', 'dreaded', 'threads', 'bitterness', 'nate', 'clams', 'audubon', 'shouting', 'mackenzie', 'startling', 'shirt', 'forgive', 'guessed', 'purse', 'affectionate', 'fudge', 'waking', \"ma'am\", 'runaway', 'marvellous', 'squid', 'poked', 'rip', 'adelaide', 'kissing', 'flo', 'lucia', 'carr', 'pregnant', 'screams', 'cheek', 'cromwell', 'passageway', 'kinder', 'fiddler', 'stevenson', 'eben', 'crutches', 'interpreter', 'alarmed', 'stephanie', 'slipped', 'luncheon', 'lipstick', 'whar', 'gripped', 'ثم', 'ledge', 'ketch', 'snowball', 'leap', 'leaping', 'monarch', 'rowe', 'palms', 'egyptians', 'fugitives', 'musicians', 'diamonds', 'attendants', 'alexis', 'chilly', 'sucked', 'outlaw', 'robes', 'embarrassing', 'vase', 'weaver', 'sophomore', 'pleasures', 'coaches', 'fisherman', 'reins', 'sage', \"'f\", 'hazel', 'brightness', 'reluctantly', 'hanged', 'christy', '.”', 'indignant', 'chased', 'bite', 'cornelia', 'punch', 'helena', 'cot', 'egan', 'shalt', 'rhyme', 'maids', 'badge', 'dias', 'myra', 'choir', 'nod', 'lola', 'mickey', 'steven', 'venison', 'invaders', 'conceal', 'fer', 'slain', 'cobb', 'banner', 'cottonwood', 'minty', 'quit', 'firefly', 'l’', 'stowed', 'chelsea', 'stink', 'longing', 'steward', 'tate', 'thunder', 'quint', 'fluttered', 'thea', '“maybe', 'merrily', 'إ', 'aboard', 'stockade', 'jeb', 'chicks', 'swaying', 'dona', 'flush', 'stormy', 'monkey', 'sails', 'keel', 'shifting', 'تر', 'tiffany', 'jealousy', 'gracie', 'wonderfully', 'bravely', 'goat', 'patio', 'scouting', 'shawl', 'tapped', 'wilbur', 'fu', 'winged', 'beads', 'georgie', 'narrowed', 'that’s', 'coyote', 'somers', 'elsa', 'cactus', 'bravery', 'teresa', 'intently', 'nai', 'blocked', 'louisa', 'josie', 'buffaloes', 'scent', 'lucky', 'crying', 'barney', 'hears', 'fleeing', 'lucinda', 'cradle', 'remus', 'fading', 'bursting', 'unconsciously', 'ripped', 'annoyed', 'julio', 'interposed', 'smelled', 'truce', '‘and', 'olga', 'shuffled', 'lambs', 'doll', 'murmur', 'damn', 'rona', 'shorty', 'logan', 'daisy', 'leapt', 'stairs', 'smiles', '“will', 'orin', 'denny', 'bridget', 'trapper', 'sebastian', 'villagers', 'snatched', 'parked', 'diving', 'rounds', 'ain', 'dump', 'stretching', 'coconut', 'matthias', 'annoyance', 'mansion', 'margery', 'ole', 'quivering', 'footman', 'dipped', 'shrugged', 'hungry', 'comforting', 'ﬂew', 'mira', 'madeleine', 'kite', 'wasting', 'dewey', 'chess', 'cab', 'sailor', 'tallulah', 'rack', 'raid', 'martitia', 'she’s', 'troop', 'bushes', 'dotty', 'lexie', 'stepped', 'liking', 'camping', 'jackets', 'eastward', 'turk', 'waiter', 'hassan', 'bet', 'hannah', 'courtney', 'leisurely', 'abode', 'shine', 'spells', 'crept', 'crackers', 'ida', 'antoine', 'graceful', 'lefty', 'anymore', 'hits', 'hated', 'chewing', 'ﬁnished', 'kidding', 'sioux', 'cakes', 'crumpled', 'pilgrims', 'jumped', 'vic', 'scratch', 'mantle', 'custer', 'gown', 'eddy', 'marco', 'abuela', 'chums', 'sap', 'flowed', 'benjy', 'poppy', 'cheery', 'robe', 'keenly', 'sez', 'sheltered', 'trotting', 'wot', 'jumper', 'rocket', 'burr', 'larkin', 'landlady', 'raft', 'taxi', 'enthusiastic', 'moaned', 'racket', 'i6mo', 'mattered', 'leaped', 'knelt', 'theo', 'peeped', 'judy', 'kicked', 'depart', 'spit', 'parrot', 'josh', 'plank', '“for', 'crows', 'fierce', 'senor', 'tawny', 'vanity', 'poster', 'louder', 'dismal', 'moran', 'reared', 'rob', \"'ere\", 'olaf', 'bothering', 'dad', 'jarvis', 'gosh', 'furs', 'apprehension', 'luisa', 'dread', 'bump', '“i’ve', 'boulders', 'lent', 'wendy', 'bertha', 'mummy', 'granddaughter', 'sped', 'grandpa', 'philippa', 'weekend', 'carver', 'descending', 'daring', 'bumped', 'captains', 'towering', '“this', 'jewels', 'beckoned', 'dede', 'casey', 'golly', 'hooves', 'janice', 'warned', 'felicia', 'moor', 'tennis', 'gallop', 'comb', 'camels', 'daddy', 'apiece', 'caspar', 'peaches', 'roar', 'raul', 'marvin', \"you're\", 'forwards', 'bombs', 'fiona', 'proudly', 'yells', 'yanked', 'hiram', 'saxons', 'lauren', 'flaming', 'crouched', 'hurricane', 'aisle', 'desperately', 'hatter', 'murmured', 'travellers', 'shrill', 'erin', 'grasses', 'louie', 'trash', 'lambert', 'hammock', 'skipper', 'soup', 'dresses', 'jungle', 'beacon', 'toyo', 'protested', '.__', 'genevieve', 'rides', 'lute', 'bamboo', \"ha'\", 'good-bye', 'wulf', 'endeavoured', 'thrilled', \"'bout\", 'paddled', 'parson', 'handsomely', 'rag', 'horrified', 'frau', 'aline', 'twig', 'darling', 'betray', 'dudley', \"somethin'\", 'hugging', 'blanket', 'sneered', 'snap', 'answering', 'lisbon', 'otis', 'ﬁelds', 'footprints', 'sharks', 'ella', 'finn', 'flooded', 'bastard', 'blair', 'bugs', 'fernando', 'andre', '‘_', 'tiptoed', 'smells', 'disappearance', 'jest', 'stretched', 'gladly', 'adventures', 'rhodes', 'chub', 'sweat', 'asa', 'overboard', 'carpet', 'tomatoes', 'hatchet', 'wheeled', 'underneath', 'barricade', 'seamen', 'ariel', 'mami', 'bowed', 'slap', 'gorge', 'mina', 'm.c.', 'peep', \"'n'\", 'ricardo', 'julie', 'cheered', 'straightened', 'compartment', 'umpire', 'ragged', 'katherine', 'shad', 'rosalie', 'lolo', 'seals', 'shutters', 'davenport', '“as', 'ribbons', 'fearing', 'peacock', 'fancied', 'citadel', 'dicey', 'ethan', 'belly', 'trixie', 'invite', 'cursed', 'fors', 'bang', 'sorely', 'cage', 'mall', 'catty', \"cap'n\", 'recess', 'spear', 'whispered', 'skinner', 'ae', 'biting', 'tremble', 'sweetheart', 'hairy', 'rifle', 'rosamond', 'gourd', 'footing', 'nervously', 'awfully', 'fran', 'ko', 'tripped', 'stairway', 'elijah', 'dolf', 'fury', 'speedily', 'helmet', 'aztec', 'thanksgiving', 'lila', 'sighs', 'nestor', 'lindsay', 'missy', 'tio', 'gulls', 'stepping', 'corporal', 'dart', 'chariot', 'vicky', 'pony', 'wiser', '“let’s', 'cruise', 'leonardo', 'cellar', 'susannah', 'amuse', 'glow', 'stew', 'baxter', 'thornton', 'betsy', 'clive', 'dwarf', 'scottie', 'hoe', 'foes', 'alamo', 'jolly', 'goin’', 'serena', 'numb', 'fried', 'pauline', 'ﬁnger', 'splashed', 'doubted', 'lillian', 'mead', 'dinsmore', 'jared', 'reuben', 'kirk', 'fauntleroy', 'trembled', 'swallows', 'crimson', 'biscuit', 'horrid', 'baldy', 'barrett', 'flashed', 'drifting', 'apaches', 'ruthie', 'folly', \"w'at\", 'awake', 'ridden', 'hauling', 'rebecca', 'comanche', 'kevin', 'sundays', '“let', 'billy', 'kitty', 'jasper', 'nomusa', 'lonnie', 'liz', 'cornwallis', 'sidewalk', 'hearty', 'wiping', '“look', 'zachary', 'hollywood', 'folks', 'awkward', 'shyly', 'natalie', 'dusty', 'lap', 'walks', 'occupants', \"'t\", 'tones', 'miz', 'mae', 'skies', 'doubts', 'vicente', 'settling', 'pluck', 'mitch', 'stove', 'zee', 'smoked', 'clyde', 'dolly', 'sheldon', 'squeak', 'clue', 'roommate', 'hitting', 'stella', 'bowman', 'drums', 'doug', 'primrose', 'pants', 'emmy', 'rosa', 'slay', 'felicity', 'tricks', 'piles', 'ollie', 'terribly', 'mindy', 'halter', 'hoisted', 'lawn', 'scowled', 'burl', 'lions', 'witt', 'secretly', 'relaxed', 'izzy', 'cusi', 'brooke', 'englishmen', 'earnestly', 'ramon', 'greta', 'slowed', 'sawdust', 'awkwardly', 'foremost', 'summons', 'stillness', 'bless', 'frantic', 'claudia', 'cyril', 'armchair', 'sherry', 'tink', 'outlaws', 'clutched', 'frighten', 'floors', 'redcoats', 'hollered', 'hooked', 'gypsies', 'sash', 'baking', 'stroked', 'fishermen', 'jeanne', 'matilda', 'jessup', 'marianne', 'boar', 'grinning', 'who’s', 'butterfly', 'practiced', 'mademoiselle', 'pappy', 'donkeys', 'lemonade', 'allie', 'peach', 'claire', 'hideous', 'picking', 'frog', 'boughs', 'mainland', 'toni', 'pleasantly', 'sank', 'gramps', '“perhaps', 'booth', 'isabel', 'celebrate', 'carving', 'frantically', 'legion', 'mask', 'fawn', 'no!', 'wentworth', 'momma', 'boots', 'cowboys', 'slumber', 'pietro', 'shopping', 'ravine', 'hickory', 'caps', 'nap', '“get', 'justin', 'ass', 'gramma', 'cheer', 'wistfully', 'goose', 'indoors', 'mouths', 'noticing', 'cassie', 'rigging', '—a', 'splashing', 'sweeping', 'clapped', 'disturb', 'pitching', 'sweep', 'pouch', 'evan', 'driveway', 'zeke', 'loneliness', 'terrific', 'dresser', 'theresa', 'fist', 'jen', 'smugglers', 'ruler', \"sha'n't\", 'vivid', 'handing', 'brock', 'reporters', 'hailed', 'pause', 'fortnight', 'ponies', 'thrilling', 'riley', 'stocking', 'jackal', 'shelves', 'mortimer', 'russians', 'gwine', 'bricks', 'clem', 'mabel', 'harcourt', 'happily', 'man’s', 'bidding', 'gorgeous', 'spoiled', 'jupiter', 'flapping', 'rollo', 'closet', 'sandals', 'chieftain', 'errand', 'swinging', 'digger', 'theirs', 'sander', 'rachel', 'alden', 'yan', 'henri', 'loaf', 'joke', 'what’s', 'thet', 'seemingly', 'hildy', 'deceived', '’ve', 'daphne', 'sigh', 'knot', 'gazed', 'demi', 'alicia', 'surf', 'downstream', 'orchestra', 'refugees', 'bess', 'joyous', 'ezra', 'gleam', 'yawned', 'deserved', 'telescope', 'cigar', 'imagined', 'grandad', 'fantasy', 'governess', 'screamed', 'grabbing', 'men-at-arms', 'blanche', 'mused', 'theodora', 'pilgrim', 'sensed', 'seymour', 'hedge', 'glittering', 'lean', 'pistols', 'chanced', 'nathaniel', 'freeze', 'methinks', 'shove', 'teased', 'spat', 'resentment', 'groan', 'charcoal', 'scout', 'parting', 'evenings', 'caesar', 'assuredly', 'drown', 'jodie', 'fools', 'statues', 'nile', 'irishman', 'flanders', 'danced', 'injun', 'we’ve', 'blades', 'i’d', 'vigorously', 'granny', 'boldly', '›', 'alf', 'dorry', 'dreadfully', 'lilies', 'turban', 'chattering', 'patting', 'sunrise', 'destiny', 'mac', 'rejoiced', 'ankles', 'cigarette', 'colt', 'sus', 'ﬂat', 'conway', 'cicely', 'ying', 'ada', 'rude', 'tailor', 'ellie', 'chick', 'nasty', 'confided', 'dude', 'naomi', 'cliffs', 'jinny', 'selwyn', 'exploded', 'fireplace', 'shirts', 'horseman', 'shocked', 'tim', 'secrets', 'backyard', 'lopez', 'squash', 'piled', 'luckily', 'sadness', 'val', 'rick', '“we’ll', 'priscilla', 'bayard', 'punish', 'chad', 'storms', 'czar', 'gossip', 'manly', 'bubble', 'archers', 'tilted', 'shiny', 'jist', 'francois', 'rajah', 'thirst', 'gail', 'midshipmen', 'maidens', 'senora', 'gwyn', 'mist', 'reinforcements', 'rattle', 'beck', 'kenton', 'hawk', 'swallow', 'vampire', 'kelley', 'dwight', 'detectives', 'rumble', \"mornin'\", 'manny', 'feller', 'massacre', 'bigger', 'breeze', 'readiness', 'mom', 'storeroom', 'starved', 'marty', 'trot', 'behaved', 'flickered', 'fumbled', 'robby', 'higgins', 'enclosure', 'sentinel', 'cookie', 'puzzle', '\\\\‘', 'passionate', 'travis', 'prudence', 'mustang', 'rainbow', 'clump', 'fowls', 'shuffles', 'adele', 'noiselessly', 'penelope', 'quilt', 'deerskin', 'flies', 'beautifully', 'babs', 'humming', 'disgust', 'selfish', 'rugs', 'pigeon', 'pawnees', 'aly', 'countrymen', 'sybil', 'griffin', 'whitey', 'coolly', '“go', 'oxen', 'erik', 'monastery', 'grover', 'wreck', 'strokes', 'costume', 'hey', 'bea', 'elephant', 'suspense', 'grandparents', 'beggars', 'ricky', 'howdy', 'shrewd', 'traps', '‘the', 'callie', 'neared', 'skirt', 'murderer', 'balcony', 'shoved', 'bitterly', 'caribou', 'dummy', 'veranda', 'toad', 'marse', 'hike', 'hiding-place', 'dink', 'hovered', 'hounds', \"i'll\", 'lounge', 'loomed', '“did', 'brandy', 'emil', 'pussy']\n"
     ]
    }
   ],
   "source": [
    "print(list(set(kodds.sort_values(ascending=False).head(10000).index).difference(rodds.sort_values(ascending=False).head(10000).index)))"
   ]
  },
  {
   "cell_type": "markdown",
   "metadata": {},
   "source": [
    "Words that are disproportionately in the random corpus. Filtering by word lengthto avoid math symbols."
   ]
  },
  {
   "cell_type": "code",
   "execution_count": 26,
   "metadata": {},
   "outputs": [
    {
     "data": {
      "text/plain": [
       "lowercase\n",
       "analysis           0.003880\n",
       "rates              0.004224\n",
       "systems            0.004496\n",
       "values             0.004579\n",
       "products           0.005368\n",
       "function           0.005540\n",
       "industrial         0.007381\n",
       "acid               0.007445\n",
       "data               0.007642\n",
       "1975               0.007924\n",
       "usa                0.008127\n",
       "estimated          0.008234\n",
       "sources            0.008467\n",
       "500                0.008566\n",
       "characteristics    0.008692\n",
       "product            0.008768\n",
       "applications       0.008790\n",
       "economic           0.008850\n",
       "maintenance        0.008861\n",
       "1977               0.009026\n",
       "transportation     0.009118\n",
       "agricultural       0.009181\n",
       "100                0.009481\n",
       "internal           0.009562\n",
       "000                0.009656\n",
       "fig                0.009690\n",
       "differences        0.009923\n",
       "employees          0.010200\n",
       "co.                0.010372\n",
       "production         0.010450\n",
       "institutions       0.010602\n",
       "organizations      0.010727\n",
       "benefits           0.010765\n",
       "tel                0.010880\n",
       "1984               0.011062\n",
       "units              0.011075\n",
       "relatively         0.011155\n",
       "specific           0.011331\n",
       "corporation        0.011353\n",
       "development        0.011378\n",
       "Name: odds, dtype: float64"
      ]
     },
     "execution_count": 26,
     "metadata": {},
     "output_type": "execute_result"
    }
   ],
   "source": [
    "b[b.index.to_series().astype(str).apply(len) > 2].sort_values().head(40)"
   ]
  },
  {
   "cell_type": "code",
   "execution_count": 41,
   "metadata": {},
   "outputs": [
    {
     "name": "stdout",
     "output_type": "stream",
     "text": [
      "analysis       \trates          \tsystems        \tvalues         \tproducts       \tfunction       \tindustrial     \tacid           \tdata           \t1975           \tusa            \testimated      \tsources        \t500            \tcharacteristics\tproduct        \tapplications   \teconomic       \tmaintenance    \t1977           \ttransportation \tagricultural   \t100            \tinternal       \t000            \tfig            \tdifferences    \temployees      \tco.            \tproduction     \tinstitutions   \torganizations  \tbenefits       \ttel            \t1984           \tunits          \trelatively     \tspecific       \tcorporation    \tdevelopment    \tbasis          \tagriculture    \t200            \tinclude        \t300            \tprocedure      \tinvestment     \tannual         \ttechnical      \t1988           \tvol            \tareas          \tconsists       \tsubsequent     \t1987           \ttechnology     \tst.            \tbased          \tphase          \tchemical       \t1986           \tsamples        \tave            \ttypes          \tu.s.           \tderived        \tassociated     \trelating       \tlegislation    \tadequate       \theating        \tengineering    \texamples       \tres            \t1985           \tfinancial      \tenvironment    \tefficiency     \tcosts          \tchem           \tinternational  \tfiscal         \t1989           \tsales          \tstatements     \tissues         \trural          \tlevels         \tindustry       \tmineral        \treduce         \tapplication    \textension      \tmarkets        \tpreliminary    \testimate       \tfund           \tdiseases       \tprovision      \tmonthly        \t1990           \trequires       \tsubmitted      \toperating      \tremoval        \tmanagement     \tinstances      \tsecondary      \tsignificant    \tadministration \tmedium         \tconclusions    \tprimary        \tlegislature    \tpersonnel      \tpar            \tpublication    \thousing        \tprograms       \tproviding      \telements       \tsenate         \tfactor         \tpotential      \tobservations   \tmedia          \tindividuals    \tthickness      \tstress         \taverage        \tdated          \teconomy        \tparagraph      \tfacility       \tindex          \td.c.           \tradiation      \tdetermine      \ttemperature    \ttax            \tsuggests       \tsimilarly      \ttransfer       \tmechanism      \ttotal          \tincome         \tcultural       \tsample         \terrors         \tpercent        \tsur            \trepresentatives\thon            \teducational    \tcontribution   \tdependent      \tnon            \ttherein        \tresources      \tsector         \tstandards      \t2000           \tpolicy         \tcommerce       \tmanufacture    \tresearch       \treference      \t1st            \tcommercial     \t1996           \tltd.           \trepresenting   \trefer          \tbasic          \tbiological     \ttechnique      \t1991           \tavailable      \tnegative       \tincrease       \tobjective      \tdistricts      \timprovements   \tadditional     \tgen            \tfunds          \tadjacent       \tresource       \tunemployment   \tper            \tdoctrine       \tfiled          \tregulations    \texecutive      \tresults        \tparticles      \tcells          \torigin         \tmethods        \tcounties       \n"
     ]
    }
   ],
   "source": [
    "words = b[b.index.to_series().astype(str).apply(len) > 2].sort_values().head(200).index.tolist()\n",
    "print(\"\\t\".join([str(word).ljust(15) for word in words]))"
   ]
  }
 ],
 "metadata": {
  "kernelspec": {
   "display_name": "Python 3",
   "language": "python",
   "name": "python3"
  },
  "language_info": {
   "codemirror_mode": {
    "name": "ipython",
    "version": 3
   },
   "file_extension": ".py",
   "mimetype": "text/x-python",
   "name": "python",
   "nbconvert_exporter": "python",
   "pygments_lexer": "ipython3",
   "version": "3.6.10"
  }
 },
 "nbformat": 4,
 "nbformat_minor": 4
}
